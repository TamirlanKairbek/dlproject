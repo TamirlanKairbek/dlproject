{
  "metadata": {
    "kernelspec": {
      "display_name": "Python 3",
      "name": "python3"
    },
    "language_info": {
      "name": "python",
      "version": "3.11.11",
      "mimetype": "text/x-python",
      "codemirror_mode": {
        "name": "ipython",
        "version": 3
      },
      "pygments_lexer": "ipython3",
      "nbconvert_exporter": "python",
      "file_extension": ".py"
    },
    "kaggle": {
      "accelerator": "nvidiaTeslaT4",
      "dataSources": [
        {
          "sourceId": 3176,
          "sourceType": "datasetVersion",
          "datasetId": 1835
        },
        {
          "sourceId": 12285712,
          "sourceType": "datasetVersion",
          "datasetId": 7742701
        },
        {
          "sourceId": 12292442,
          "sourceType": "datasetVersion",
          "datasetId": 7747468
        }
      ],
      "dockerImageVersionId": 31041,
      "isInternetEnabled": true,
      "language": "python",
      "sourceType": "notebook",
      "isGpuEnabled": true
    },
    "colab": {
      "provenance": [],
      "gpuType": "T4"
    },
    "accelerator": "GPU"
  },
  "nbformat_minor": 0,
  "nbformat": 4,
  "cells": [
    {
      "cell_type": "markdown",
      "source": [
        "# 1. Introduction\n",
        "In this project, I tackle the problem of predicting hotel review scores and review types (good or bad) using a dataset containing 13,772 hotel reviews. Each review includes both structured information, such as the hotel name, review date, reviewer nationality, and the number of reviews, as well as unstructured text from the review itself.\n",
        "My objective is to design a deep neural network that can predict:\n",
        "\n",
        "* Review_Score (a regression task, with scores ranging from 2.5 to 10)\n",
        "\n",
        "* Review_Type (a binary classification task: Good_review or Bad_review)\n",
        "\n",
        "Being able to accurately predict these outcomes can help hotels better monitor customer satisfaction and automatically identify particularly negative or positive reviews."
      ],
      "metadata": {
        "id": "4i1xwsCoC5lk"
      }
    },
    {
      "cell_type": "markdown",
      "source": [
        "## 1.1 Environment Setup and Import Libraries"
      ],
      "metadata": {
        "id": "MY0_ME-1C5ll"
      }
    },
    {
      "cell_type": "code",
      "source": [
        "!pip install tensorflow scikit-learn pandas numpy matplotlib seaborn nltk --quiet\n",
        "!wget https://nlp.stanford.edu/data/glove.6B.zip\n",
        "!unzip -j glove.6B.zip glove.6B.100d.txt"
      ],
      "metadata": {
        "trusted": true,
        "execution": {
          "iopub.status.busy": "2025-06-28T19:25:40.433847Z",
          "iopub.execute_input": "2025-06-28T19:25:40.434426Z",
          "iopub.status.idle": "2025-06-28T19:28:27.723070Z",
          "shell.execute_reply.started": "2025-06-28T19:25:40.434390Z",
          "shell.execute_reply": "2025-06-28T19:28:27.722388Z"
        },
        "colab": {
          "base_uri": "https://localhost:8080/"
        },
        "id": "4tRwMk72C5lm",
        "outputId": "1178c088-1331-455d-c6d0-e38abdb4f4bb"
      },
      "outputs": [
        {
          "output_type": "stream",
          "name": "stdout",
          "text": [
            "--2025-06-28 21:32:26--  https://nlp.stanford.edu/data/glove.6B.zip\n",
            "Resolving nlp.stanford.edu (nlp.stanford.edu)... 171.64.67.140\n",
            "Connecting to nlp.stanford.edu (nlp.stanford.edu)|171.64.67.140|:443... connected.\n",
            "HTTP request sent, awaiting response... 301 Moved Permanently\n",
            "Location: https://downloads.cs.stanford.edu/nlp/data/glove.6B.zip [following]\n",
            "--2025-06-28 21:32:26--  https://downloads.cs.stanford.edu/nlp/data/glove.6B.zip\n",
            "Resolving downloads.cs.stanford.edu (downloads.cs.stanford.edu)... 171.64.64.22\n",
            "Connecting to downloads.cs.stanford.edu (downloads.cs.stanford.edu)|171.64.64.22|:443... connected.\n",
            "HTTP request sent, awaiting response... 200 OK\n",
            "Length: 862182613 (822M) [application/zip]\n",
            "Saving to: ‘glove.6B.zip’\n",
            "\n",
            "glove.6B.zip        100%[===================>] 822.24M  5.02MB/s    in 2m 38s  \n",
            "\n",
            "2025-06-28 21:35:05 (5.19 MB/s) - ‘glove.6B.zip’ saved [862182613/862182613]\n",
            "\n",
            "Archive:  glove.6B.zip\n",
            "  inflating: glove.6B.100d.txt       \n"
          ]
        }
      ],
      "execution_count": null
    },
    {
      "cell_type": "code",
      "source": [
        "import numpy as np\n",
        "import pandas as pd\n",
        "import matplotlib.pyplot as plt\n",
        "import seaborn as sns\n",
        "\n",
        "from sklearn.model_selection import train_test_split\n",
        "from sklearn.preprocessing import StandardScaler, LabelEncoder\n",
        "from sklearn.metrics import (\n",
        "    accuracy_score,\n",
        "    precision_recall_fscore_support,\n",
        "    mean_squared_error,\n",
        "    r2_score,\n",
        "    confusion_matrix,\n",
        "    classification_report\n",
        ")\n",
        "\n",
        "import tensorflow as tf\n",
        "from tensorflow import keras\n",
        "from tensorflow.keras import layers, Model, Input\n",
        "from tensorflow.keras.preprocessing.text import Tokenizer\n",
        "from tensorflow.keras.preprocessing.sequence import pad_sequences\n",
        "\n",
        "import nltk\n",
        "import re\n",
        "nltk.download('stopwords')\n",
        "from nltk.corpus import stopwords\n",
        "\n",
        "import os\n",
        "import random"
      ],
      "metadata": {
        "trusted": true,
        "execution": {
          "iopub.status.busy": "2025-06-28T19:28:27.724460Z",
          "iopub.execute_input": "2025-06-28T19:28:27.724691Z",
          "iopub.status.idle": "2025-06-28T19:28:43.525027Z",
          "shell.execute_reply.started": "2025-06-28T19:28:27.724670Z",
          "shell.execute_reply": "2025-06-28T19:28:43.524332Z"
        },
        "colab": {
          "base_uri": "https://localhost:8080/"
        },
        "id": "UpGIReVFC5ln",
        "outputId": "8a6223aa-8a97-4e28-f1db-292c8d532c97"
      },
      "outputs": [
        {
          "output_type": "stream",
          "name": "stderr",
          "text": [
            "[nltk_data] Downloading package stopwords to /root/nltk_data...\n",
            "[nltk_data]   Unzipping corpora/stopwords.zip.\n"
          ]
        }
      ],
      "execution_count": null
    },
    {
      "cell_type": "markdown",
      "source": [
        "# 1.2 Data Description\n",
        "The dataset contains the following fields:\n",
        "\n",
        "* Hotel_Name: string — the name of the hotel\n",
        "\n",
        "* Hotel_Address: text — hotel address (not used for prediction)\n",
        "\n",
        "* Review_Date: date — date of the review (month/day/year)\n",
        "\n",
        "* Hotel_number_reviews: integer — total number of reviews for the hotel\n",
        "\n",
        "* Reviewer_Nationality: string — country of the reviewer\n",
        "\n",
        "* Reviewer_number_reviews: integer — how many reviews this reviewer wrote in total\n",
        "\n",
        "* Review: string — the review text (up to 400 words)\n",
        "\n",
        "* Review_Score: float — target variable for regression ([2.5, 10])\n",
        "\n",
        "* Review_Type: string — target variable for classification (Good_review/Bad_review)"
      ],
      "metadata": {
        "execution": {
          "iopub.status.busy": "2025-06-27T18:42:17.699321Z",
          "iopub.execute_input": "2025-06-27T18:42:17.699612Z",
          "iopub.status.idle": "2025-06-27T18:42:17.708312Z",
          "shell.execute_reply.started": "2025-06-27T18:42:17.699590Z",
          "shell.execute_reply": "2025-06-27T18:42:17.707200Z"
        },
        "id": "6Sl8ZDH4C5ln"
      }
    },
    {
      "cell_type": "markdown",
      "source": [
        "Only a subset of the available columns is used for modeling. Specifically, the model utilizes the review text (Review), hotel name (Hotel_Name), hotel number of reviews (Hotel_number_reviews), reviewer nationality (Reviewer_Nationality), reviewer number of reviews (Reviewer_number_reviews), and engineered features such as review length and negative word presence. The address and review date are excluded, as they do not provide predictive value for this task."
      ],
      "metadata": {
        "id": "Z0SC861mC5lo"
      }
    },
    {
      "cell_type": "markdown",
      "source": [
        "# 1.3 Data Loading\n",
        "\n",
        "In this section, I load the dataset from the provided CSV file and display its size and a few sample rows to get an initial understanding of the data."
      ],
      "metadata": {
        "id": "ql7bqxCvC5lo"
      }
    },
    {
      "cell_type": "code",
      "source": [
        "url = 'https://raw.githubusercontent.com/TamirlanKairbek/dlproject/main/input_data.csv'\n",
        "df = pd.read_csv(url)\n",
        "df.drop(columns=['Average_Score'], inplace=True)"
      ],
      "metadata": {
        "trusted": true,
        "execution": {
          "iopub.status.busy": "2025-06-28T19:28:44.715553Z",
          "iopub.execute_input": "2025-06-28T19:28:44.716067Z",
          "iopub.status.idle": "2025-06-28T19:28:45.058363Z",
          "shell.execute_reply.started": "2025-06-28T19:28:44.716042Z",
          "shell.execute_reply": "2025-06-28T19:28:45.057753Z"
        },
        "id": "xpA_1dixC5lo"
      },
      "outputs": [],
      "execution_count": null
    },
    {
      "cell_type": "code",
      "source": [
        "df.head()"
      ],
      "metadata": {
        "trusted": true,
        "execution": {
          "iopub.status.busy": "2025-06-28T19:28:45.059007Z",
          "iopub.execute_input": "2025-06-28T19:28:45.059185Z",
          "iopub.status.idle": "2025-06-28T19:28:45.078417Z",
          "shell.execute_reply.started": "2025-06-28T19:28:45.059170Z",
          "shell.execute_reply": "2025-06-28T19:28:45.077859Z"
        },
        "colab": {
          "base_uri": "https://localhost:8080/",
          "height": 327
        },
        "id": "oRdPyqJHC5lo",
        "outputId": "04f5f1c1-b95c-43b0-bdbf-c6356f74c7f0"
      },
      "outputs": [
        {
          "output_type": "execute_result",
          "data": {
            "text/plain": [
              "                                       Hotel_Address Review_Date  \\\n",
              "0  Scarsdale Scarsdale Place Kensington Kensingto...    5/2/2017   \n",
              "1  53 53 59 Kilburn High Road Maida Vale London C...    8/4/2016   \n",
              "2  Pelai Pelai 28 Ciutat Vella 08002 Barcelona Spain  11/17/2016   \n",
              "3  3 3 Place du G n ral Koenig 17th arr 75017 Par...    2/4/2016   \n",
              "4  Epping Epping Forest 30 Oak Hill London IG8 9N...   7/27/2016   \n",
              "\n",
              "                               Hotel_Name Reviewer_Nationality  \\\n",
              "0  Copthorne Tara Hotel London Kensington      United Kingdom    \n",
              "1  BEST WESTERN Maitrise Hotel Maida Vale      United Kingdom    \n",
              "2                 Catalonia Ramblas 4 Sup      United Kingdom    \n",
              "3              Hyatt Regency Paris Etoile      United Kingdom    \n",
              "4         Best Western PLUS Epping Forest      United Kingdom    \n",
              "\n",
              "   Hotel_number_reviews  Reviewer_number_reviews  Review_Score  \\\n",
              "0                  7105                        2           6.7   \n",
              "1                  1877                        8           5.8   \n",
              "2                  4276                        2           6.3   \n",
              "3                  3973                        3           5.8   \n",
              "4                   587                        7           3.3   \n",
              "\n",
              "                                              Review Review_Type  \n",
              "0   Expensive room rate that didn t include parki...  Bad_review  \n",
              "1   Bedroom in the basement No windows Very small...  Bad_review  \n",
              "2                 Room ready for a makeover Location  Bad_review  \n",
              "3   Firstly the lady at the check in desk was qui...  Bad_review  \n",
              "4   Not being able to park my vehicle due to the ...  Bad_review  "
            ],
            "text/html": [
              "\n",
              "  <div id=\"df-4532227e-64b3-49b3-bbd8-8177ef9306fb\" class=\"colab-df-container\">\n",
              "    <div>\n",
              "<style scoped>\n",
              "    .dataframe tbody tr th:only-of-type {\n",
              "        vertical-align: middle;\n",
              "    }\n",
              "\n",
              "    .dataframe tbody tr th {\n",
              "        vertical-align: top;\n",
              "    }\n",
              "\n",
              "    .dataframe thead th {\n",
              "        text-align: right;\n",
              "    }\n",
              "</style>\n",
              "<table border=\"1\" class=\"dataframe\">\n",
              "  <thead>\n",
              "    <tr style=\"text-align: right;\">\n",
              "      <th></th>\n",
              "      <th>Hotel_Address</th>\n",
              "      <th>Review_Date</th>\n",
              "      <th>Hotel_Name</th>\n",
              "      <th>Reviewer_Nationality</th>\n",
              "      <th>Hotel_number_reviews</th>\n",
              "      <th>Reviewer_number_reviews</th>\n",
              "      <th>Review_Score</th>\n",
              "      <th>Review</th>\n",
              "      <th>Review_Type</th>\n",
              "    </tr>\n",
              "  </thead>\n",
              "  <tbody>\n",
              "    <tr>\n",
              "      <th>0</th>\n",
              "      <td>Scarsdale Scarsdale Place Kensington Kensingto...</td>\n",
              "      <td>5/2/2017</td>\n",
              "      <td>Copthorne Tara Hotel London Kensington</td>\n",
              "      <td>United Kingdom</td>\n",
              "      <td>7105</td>\n",
              "      <td>2</td>\n",
              "      <td>6.7</td>\n",
              "      <td>Expensive room rate that didn t include parki...</td>\n",
              "      <td>Bad_review</td>\n",
              "    </tr>\n",
              "    <tr>\n",
              "      <th>1</th>\n",
              "      <td>53 53 59 Kilburn High Road Maida Vale London C...</td>\n",
              "      <td>8/4/2016</td>\n",
              "      <td>BEST WESTERN Maitrise Hotel Maida Vale</td>\n",
              "      <td>United Kingdom</td>\n",
              "      <td>1877</td>\n",
              "      <td>8</td>\n",
              "      <td>5.8</td>\n",
              "      <td>Bedroom in the basement No windows Very small...</td>\n",
              "      <td>Bad_review</td>\n",
              "    </tr>\n",
              "    <tr>\n",
              "      <th>2</th>\n",
              "      <td>Pelai Pelai 28 Ciutat Vella 08002 Barcelona Spain</td>\n",
              "      <td>11/17/2016</td>\n",
              "      <td>Catalonia Ramblas 4 Sup</td>\n",
              "      <td>United Kingdom</td>\n",
              "      <td>4276</td>\n",
              "      <td>2</td>\n",
              "      <td>6.3</td>\n",
              "      <td>Room ready for a makeover Location</td>\n",
              "      <td>Bad_review</td>\n",
              "    </tr>\n",
              "    <tr>\n",
              "      <th>3</th>\n",
              "      <td>3 3 Place du G n ral Koenig 17th arr 75017 Par...</td>\n",
              "      <td>2/4/2016</td>\n",
              "      <td>Hyatt Regency Paris Etoile</td>\n",
              "      <td>United Kingdom</td>\n",
              "      <td>3973</td>\n",
              "      <td>3</td>\n",
              "      <td>5.8</td>\n",
              "      <td>Firstly the lady at the check in desk was qui...</td>\n",
              "      <td>Bad_review</td>\n",
              "    </tr>\n",
              "    <tr>\n",
              "      <th>4</th>\n",
              "      <td>Epping Epping Forest 30 Oak Hill London IG8 9N...</td>\n",
              "      <td>7/27/2016</td>\n",
              "      <td>Best Western PLUS Epping Forest</td>\n",
              "      <td>United Kingdom</td>\n",
              "      <td>587</td>\n",
              "      <td>7</td>\n",
              "      <td>3.3</td>\n",
              "      <td>Not being able to park my vehicle due to the ...</td>\n",
              "      <td>Bad_review</td>\n",
              "    </tr>\n",
              "  </tbody>\n",
              "</table>\n",
              "</div>\n",
              "    <div class=\"colab-df-buttons\">\n",
              "\n",
              "  <div class=\"colab-df-container\">\n",
              "    <button class=\"colab-df-convert\" onclick=\"convertToInteractive('df-4532227e-64b3-49b3-bbd8-8177ef9306fb')\"\n",
              "            title=\"Convert this dataframe to an interactive table.\"\n",
              "            style=\"display:none;\">\n",
              "\n",
              "  <svg xmlns=\"http://www.w3.org/2000/svg\" height=\"24px\" viewBox=\"0 -960 960 960\">\n",
              "    <path d=\"M120-120v-720h720v720H120Zm60-500h600v-160H180v160Zm220 220h160v-160H400v160Zm0 220h160v-160H400v160ZM180-400h160v-160H180v160Zm440 0h160v-160H620v160ZM180-180h160v-160H180v160Zm440 0h160v-160H620v160Z\"/>\n",
              "  </svg>\n",
              "    </button>\n",
              "\n",
              "  <style>\n",
              "    .colab-df-container {\n",
              "      display:flex;\n",
              "      gap: 12px;\n",
              "    }\n",
              "\n",
              "    .colab-df-convert {\n",
              "      background-color: #E8F0FE;\n",
              "      border: none;\n",
              "      border-radius: 50%;\n",
              "      cursor: pointer;\n",
              "      display: none;\n",
              "      fill: #1967D2;\n",
              "      height: 32px;\n",
              "      padding: 0 0 0 0;\n",
              "      width: 32px;\n",
              "    }\n",
              "\n",
              "    .colab-df-convert:hover {\n",
              "      background-color: #E2EBFA;\n",
              "      box-shadow: 0px 1px 2px rgba(60, 64, 67, 0.3), 0px 1px 3px 1px rgba(60, 64, 67, 0.15);\n",
              "      fill: #174EA6;\n",
              "    }\n",
              "\n",
              "    .colab-df-buttons div {\n",
              "      margin-bottom: 4px;\n",
              "    }\n",
              "\n",
              "    [theme=dark] .colab-df-convert {\n",
              "      background-color: #3B4455;\n",
              "      fill: #D2E3FC;\n",
              "    }\n",
              "\n",
              "    [theme=dark] .colab-df-convert:hover {\n",
              "      background-color: #434B5C;\n",
              "      box-shadow: 0px 1px 3px 1px rgba(0, 0, 0, 0.15);\n",
              "      filter: drop-shadow(0px 1px 2px rgba(0, 0, 0, 0.3));\n",
              "      fill: #FFFFFF;\n",
              "    }\n",
              "  </style>\n",
              "\n",
              "    <script>\n",
              "      const buttonEl =\n",
              "        document.querySelector('#df-4532227e-64b3-49b3-bbd8-8177ef9306fb button.colab-df-convert');\n",
              "      buttonEl.style.display =\n",
              "        google.colab.kernel.accessAllowed ? 'block' : 'none';\n",
              "\n",
              "      async function convertToInteractive(key) {\n",
              "        const element = document.querySelector('#df-4532227e-64b3-49b3-bbd8-8177ef9306fb');\n",
              "        const dataTable =\n",
              "          await google.colab.kernel.invokeFunction('convertToInteractive',\n",
              "                                                    [key], {});\n",
              "        if (!dataTable) return;\n",
              "\n",
              "        const docLinkHtml = 'Like what you see? Visit the ' +\n",
              "          '<a target=\"_blank\" href=https://colab.research.google.com/notebooks/data_table.ipynb>data table notebook</a>'\n",
              "          + ' to learn more about interactive tables.';\n",
              "        element.innerHTML = '';\n",
              "        dataTable['output_type'] = 'display_data';\n",
              "        await google.colab.output.renderOutput(dataTable, element);\n",
              "        const docLink = document.createElement('div');\n",
              "        docLink.innerHTML = docLinkHtml;\n",
              "        element.appendChild(docLink);\n",
              "      }\n",
              "    </script>\n",
              "  </div>\n",
              "\n",
              "\n",
              "    <div id=\"df-a55d4e48-d717-4251-a362-8588c1979c61\">\n",
              "      <button class=\"colab-df-quickchart\" onclick=\"quickchart('df-a55d4e48-d717-4251-a362-8588c1979c61')\"\n",
              "                title=\"Suggest charts\"\n",
              "                style=\"display:none;\">\n",
              "\n",
              "<svg xmlns=\"http://www.w3.org/2000/svg\" height=\"24px\"viewBox=\"0 0 24 24\"\n",
              "     width=\"24px\">\n",
              "    <g>\n",
              "        <path d=\"M19 3H5c-1.1 0-2 .9-2 2v14c0 1.1.9 2 2 2h14c1.1 0 2-.9 2-2V5c0-1.1-.9-2-2-2zM9 17H7v-7h2v7zm4 0h-2V7h2v10zm4 0h-2v-4h2v4z\"/>\n",
              "    </g>\n",
              "</svg>\n",
              "      </button>\n",
              "\n",
              "<style>\n",
              "  .colab-df-quickchart {\n",
              "      --bg-color: #E8F0FE;\n",
              "      --fill-color: #1967D2;\n",
              "      --hover-bg-color: #E2EBFA;\n",
              "      --hover-fill-color: #174EA6;\n",
              "      --disabled-fill-color: #AAA;\n",
              "      --disabled-bg-color: #DDD;\n",
              "  }\n",
              "\n",
              "  [theme=dark] .colab-df-quickchart {\n",
              "      --bg-color: #3B4455;\n",
              "      --fill-color: #D2E3FC;\n",
              "      --hover-bg-color: #434B5C;\n",
              "      --hover-fill-color: #FFFFFF;\n",
              "      --disabled-bg-color: #3B4455;\n",
              "      --disabled-fill-color: #666;\n",
              "  }\n",
              "\n",
              "  .colab-df-quickchart {\n",
              "    background-color: var(--bg-color);\n",
              "    border: none;\n",
              "    border-radius: 50%;\n",
              "    cursor: pointer;\n",
              "    display: none;\n",
              "    fill: var(--fill-color);\n",
              "    height: 32px;\n",
              "    padding: 0;\n",
              "    width: 32px;\n",
              "  }\n",
              "\n",
              "  .colab-df-quickchart:hover {\n",
              "    background-color: var(--hover-bg-color);\n",
              "    box-shadow: 0 1px 2px rgba(60, 64, 67, 0.3), 0 1px 3px 1px rgba(60, 64, 67, 0.15);\n",
              "    fill: var(--button-hover-fill-color);\n",
              "  }\n",
              "\n",
              "  .colab-df-quickchart-complete:disabled,\n",
              "  .colab-df-quickchart-complete:disabled:hover {\n",
              "    background-color: var(--disabled-bg-color);\n",
              "    fill: var(--disabled-fill-color);\n",
              "    box-shadow: none;\n",
              "  }\n",
              "\n",
              "  .colab-df-spinner {\n",
              "    border: 2px solid var(--fill-color);\n",
              "    border-color: transparent;\n",
              "    border-bottom-color: var(--fill-color);\n",
              "    animation:\n",
              "      spin 1s steps(1) infinite;\n",
              "  }\n",
              "\n",
              "  @keyframes spin {\n",
              "    0% {\n",
              "      border-color: transparent;\n",
              "      border-bottom-color: var(--fill-color);\n",
              "      border-left-color: var(--fill-color);\n",
              "    }\n",
              "    20% {\n",
              "      border-color: transparent;\n",
              "      border-left-color: var(--fill-color);\n",
              "      border-top-color: var(--fill-color);\n",
              "    }\n",
              "    30% {\n",
              "      border-color: transparent;\n",
              "      border-left-color: var(--fill-color);\n",
              "      border-top-color: var(--fill-color);\n",
              "      border-right-color: var(--fill-color);\n",
              "    }\n",
              "    40% {\n",
              "      border-color: transparent;\n",
              "      border-right-color: var(--fill-color);\n",
              "      border-top-color: var(--fill-color);\n",
              "    }\n",
              "    60% {\n",
              "      border-color: transparent;\n",
              "      border-right-color: var(--fill-color);\n",
              "    }\n",
              "    80% {\n",
              "      border-color: transparent;\n",
              "      border-right-color: var(--fill-color);\n",
              "      border-bottom-color: var(--fill-color);\n",
              "    }\n",
              "    90% {\n",
              "      border-color: transparent;\n",
              "      border-bottom-color: var(--fill-color);\n",
              "    }\n",
              "  }\n",
              "</style>\n",
              "\n",
              "      <script>\n",
              "        async function quickchart(key) {\n",
              "          const quickchartButtonEl =\n",
              "            document.querySelector('#' + key + ' button');\n",
              "          quickchartButtonEl.disabled = true;  // To prevent multiple clicks.\n",
              "          quickchartButtonEl.classList.add('colab-df-spinner');\n",
              "          try {\n",
              "            const charts = await google.colab.kernel.invokeFunction(\n",
              "                'suggestCharts', [key], {});\n",
              "          } catch (error) {\n",
              "            console.error('Error during call to suggestCharts:', error);\n",
              "          }\n",
              "          quickchartButtonEl.classList.remove('colab-df-spinner');\n",
              "          quickchartButtonEl.classList.add('colab-df-quickchart-complete');\n",
              "        }\n",
              "        (() => {\n",
              "          let quickchartButtonEl =\n",
              "            document.querySelector('#df-a55d4e48-d717-4251-a362-8588c1979c61 button');\n",
              "          quickchartButtonEl.style.display =\n",
              "            google.colab.kernel.accessAllowed ? 'block' : 'none';\n",
              "        })();\n",
              "      </script>\n",
              "    </div>\n",
              "\n",
              "    </div>\n",
              "  </div>\n"
            ],
            "application/vnd.google.colaboratory.intrinsic+json": {
              "type": "dataframe",
              "variable_name": "df",
              "summary": "{\n  \"name\": \"df\",\n  \"rows\": 13772,\n  \"fields\": [\n    {\n      \"column\": \"Hotel_Address\",\n      \"properties\": {\n        \"dtype\": \"category\",\n        \"num_unique_values\": 1367,\n        \"samples\": [\n          \"Avenida Avenida Diagonal 201 Sant Mart 08018 Barcelona Spain\",\n          \"Singerstra Singerstra e 3 01 Innere Stadt 1010 Vienna Austria\",\n          \"14 14 16 Craven Hill Lancaster Gate Westminster Borough London W2 3DU UK\"\n        ],\n        \"semantic_type\": \"\",\n        \"description\": \"\"\n      }\n    },\n    {\n      \"column\": \"Review_Date\",\n      \"properties\": {\n        \"dtype\": \"object\",\n        \"num_unique_values\": 730,\n        \"samples\": [\n          \"4/26/2017\",\n          \"11/11/2016\",\n          \"5/20/2016\"\n        ],\n        \"semantic_type\": \"\",\n        \"description\": \"\"\n      }\n    },\n    {\n      \"column\": \"Hotel_Name\",\n      \"properties\": {\n        \"dtype\": \"category\",\n        \"num_unique_values\": 1366,\n        \"samples\": [\n          \"The Guesthouse Vienna\",\n          \"Chambiges Elys es\",\n          \"La Suite West Hyde Park\"\n        ],\n        \"semantic_type\": \"\",\n        \"description\": \"\"\n      }\n    },\n    {\n      \"column\": \"Reviewer_Nationality\",\n      \"properties\": {\n        \"dtype\": \"category\",\n        \"num_unique_values\": 148,\n        \"samples\": [\n          \" Moldova \",\n          \" Jersey \",\n          \" Rwanda \"\n        ],\n        \"semantic_type\": \"\",\n        \"description\": \"\"\n      }\n    },\n    {\n      \"column\": \"Hotel_number_reviews\",\n      \"properties\": {\n        \"dtype\": \"number\",\n        \"std\": 2388,\n        \"min\": 43,\n        \"max\": 16670,\n        \"num_unique_values\": 1085,\n        \"samples\": [\n          1744,\n          1018,\n          851\n        ],\n        \"semantic_type\": \"\",\n        \"description\": \"\"\n      }\n    },\n    {\n      \"column\": \"Reviewer_number_reviews\",\n      \"properties\": {\n        \"dtype\": \"number\",\n        \"std\": 10,\n        \"min\": 1,\n        \"max\": 211,\n        \"num_unique_values\": 94,\n        \"samples\": [\n          31,\n          17,\n          56\n        ],\n        \"semantic_type\": \"\",\n        \"description\": \"\"\n      }\n    },\n    {\n      \"column\": \"Review_Score\",\n      \"properties\": {\n        \"dtype\": \"number\",\n        \"std\": 2.059654194003901,\n        \"min\": 2.5,\n        \"max\": 10.0,\n        \"num_unique_values\": 34,\n        \"samples\": [\n          5.5,\n          6.9,\n          7.5\n        ],\n        \"semantic_type\": \"\",\n        \"description\": \"\"\n      }\n    },\n    {\n      \"column\": \"Review\",\n      \"properties\": {\n        \"dtype\": \"string\",\n        \"num_unique_values\": 13076,\n        \"samples\": [\n          \" Clean smart\",\n          \" nothing great location\",\n          \" The design of the room the comfort\"\n        ],\n        \"semantic_type\": \"\",\n        \"description\": \"\"\n      }\n    },\n    {\n      \"column\": \"Review_Type\",\n      \"properties\": {\n        \"dtype\": \"category\",\n        \"num_unique_values\": 2,\n        \"samples\": [\n          \"Good_review\",\n          \"Bad_review\"\n        ],\n        \"semantic_type\": \"\",\n        \"description\": \"\"\n      }\n    }\n  ]\n}"
            }
          },
          "metadata": {},
          "execution_count": 4
        }
      ],
      "execution_count": null
    },
    {
      "cell_type": "markdown",
      "source": [
        "# 1.4 Exploratory Data Analysis\n",
        "While this step was not included in my written exam solution, exploratory data analysis (EDA) is essential for understanding the dataset, identifying data quality issues, and informing preprocessing and modeling decisions. Here, I briefly explore the dataset’s structure and feature distributions to support a more informed modeling approach.\n",
        "\n"
      ],
      "metadata": {
        "id": "Ebp3qMtGC5lo"
      }
    },
    {
      "cell_type": "markdown",
      "source": [
        "## 1.4.1 Regression\n",
        "First, I will explore the distribution of review scores to understand the target variable for regression."
      ],
      "metadata": {
        "id": "p893NEj2C5lo"
      }
    },
    {
      "cell_type": "code",
      "source": [
        "df['Review_Score'].hist(bins=20)\n",
        "plt.title('Distribution of Review Scores')\n",
        "plt.xlabel('Review Score')\n",
        "plt.ylabel('Count')\n",
        "plt.show()"
      ],
      "metadata": {
        "trusted": true,
        "execution": {
          "iopub.status.busy": "2025-06-28T19:28:45.079010Z",
          "iopub.execute_input": "2025-06-28T19:28:45.079170Z",
          "iopub.status.idle": "2025-06-28T19:28:45.382710Z",
          "shell.execute_reply.started": "2025-06-28T19:28:45.079157Z",
          "shell.execute_reply": "2025-06-28T19:28:45.382107Z"
        },
        "colab": {
          "base_uri": "https://localhost:8080/",
          "height": 472
        },
        "id": "zZ-Z7T1BC5lo",
        "outputId": "3a35c619-fa90-481b-82db-4c7c94b3d077"
      },
      "outputs": [
        {
          "output_type": "display_data",
          "data": {
            "text/plain": [
              "<Figure size 640x480 with 1 Axes>"
            ],
            "image/png": "[encoded data removed]"
          },
          "metadata": {}
        }
      ],
      "execution_count": null
    },
    {
      "cell_type": "markdown",
      "source": [
        "The histogram above shows the distribution of review scores in the dataset. Most scores are concentrated at the higher end of the scale, especially around 10, indicating that the majority of guests give very positive ratings. There is a noticeable drop around the score of 7, and very few reviews have scores below 4. This suggests that the dataset is somewhat imbalanced, with much more positive feedback than negative. Such a distribution is common in real-world customer review data, as dissatisfied guests are less likely to leave reviews or may avoid leaving extremely low ratings.\n"
      ],
      "metadata": {
        "id": "DGzq0wgXC5lp"
      }
    },
    {
      "cell_type": "markdown",
      "source": [
        "## 1.4.2 Classification\n",
        "Next, I will check the balance between good and bad reviews."
      ],
      "metadata": {
        "id": "kqpkYS3yC5lp"
      }
    },
    {
      "cell_type": "code",
      "source": [
        "df['Review_Type'].value_counts().plot(kind='bar')\n",
        "plt.title('Count of Review Types')\n",
        "plt.xlabel('Review Type')\n",
        "plt.ylabel('Count')\n",
        "plt.show()"
      ],
      "metadata": {
        "trusted": true,
        "execution": {
          "iopub.status.busy": "2025-06-28T19:28:45.383362Z",
          "iopub.execute_input": "2025-06-28T19:28:45.383542Z",
          "iopub.status.idle": "2025-06-28T19:28:45.517840Z",
          "shell.execute_reply.started": "2025-06-28T19:28:45.383527Z",
          "shell.execute_reply": "2025-06-28T19:28:45.517223Z"
        },
        "colab": {
          "base_uri": "https://localhost:8080/",
          "height": 547
        },
        "id": "5EAV5LvcC5lp",
        "outputId": "8d545476-55a6-4534-b44e-c8a73f6373ef"
      },
      "outputs": [
        {
          "output_type": "display_data",
          "data": {
            "text/plain": [
              "<Figure size 640x480 with 1 Axes>"
            ],
            "image/png": "[encoded data removed]"
          },
          "metadata": {}
        }
      ],
      "execution_count": null
    },
    {
      "cell_type": "markdown",
      "source": [
        "The bar chart above displays the count of each review type in the dataset. The numbers of bad and good reviews are almost equal, with each category containing close to 7,000 samples. This balance between the two classes is beneficial for the binary classification task, as it reduces the risk of the model being biased toward one class. Having a balanced dataset also simplifies the interpretation of classification metrics such as accuracy and F1-score."
      ],
      "metadata": {
        "id": "8p53pGSLC5lp"
      }
    },
    {
      "cell_type": "markdown",
      "source": [
        "## 1.4.3 Reviewer Nationality\n",
        "Among the available categorical features, reviewer nationality appears to be the most important. The country of origin can significantly influence a reviewer's expectations, experiences, and the way they express opinions in the review text. Therefore, I consider `Reviewer_Nationality` as the most informative categorical variable, and it will be included as a key feature in the modeling process."
      ],
      "metadata": {
        "id": "2GqnbmwtC5lp"
      }
    },
    {
      "cell_type": "code",
      "source": [
        "top_nationalities = df['Reviewer_Nationality'].value_counts().head(10)\n",
        "top_nationalities.plot(kind='bar')\n",
        "plt.title('Top 10 Reviewer Nationalities')\n",
        "plt.xlabel('Nationality')\n",
        "plt.ylabel('Count')\n",
        "plt.show()"
      ],
      "metadata": {
        "trusted": true,
        "execution": {
          "iopub.status.busy": "2025-06-28T19:28:45.518688Z",
          "iopub.execute_input": "2025-06-28T19:28:45.518982Z",
          "iopub.status.idle": "2025-06-28T19:28:45.683354Z",
          "shell.execute_reply.started": "2025-06-28T19:28:45.518955Z",
          "shell.execute_reply": "2025-06-28T19:28:45.682646Z"
        },
        "colab": {
          "base_uri": "https://localhost:8080/",
          "height": 640
        },
        "id": "USujBkcXC5lp",
        "outputId": "dc3e4940-5782-48da-8f55-dc66d1fd35fa"
      },
      "outputs": [
        {
          "output_type": "display_data",
          "data": {
            "text/plain": [
              "<Figure size 640x480 with 1 Axes>"
            ],
            "image/png": "[encoded data removed]"
          },
          "metadata": {}
        }
      ],
      "execution_count": null
    },
    {
      "cell_type": "markdown",
      "source": [
        "This bar chart shows the distribution of the top 10 reviewer nationalities in the dataset.  \n",
        "The United Kingdom dominates with more than 6,000 reviews, while other countries such as the United States, Australia, and Saudi Arabia contribute far fewer reviews each.  \n",
        "This strong imbalance suggests that reviewer nationality could be an important feature, but it also means the model might be more influenced by data from the UK."
      ],
      "metadata": {
        "id": "DeIs3A0fC5lp"
      }
    },
    {
      "cell_type": "markdown",
      "source": [
        "# 2. Data Preprocessing\n",
        "\n",
        "In the exam, I described basic text preprocessing, including tokenization and padding.\n",
        "In practice, I applied more thorough cleaning: converting text to lowercase, removing HTML tags, punctuation, and extra spaces.\n",
        "Additionally, I noticed many reviews consisted only of uninformative words like \"everything\" or \"nothing\". These were not mentioned in the exam, but I filtered them out to improve model quality by ensuring the model focuses on meaningful patterns."
      ],
      "metadata": {
        "id": "xqumfrJNC5lp"
      }
    },
    {
      "cell_type": "markdown",
      "source": [
        "## 2.1 Feature Preprocessing\n",
        "To ensure the data is suitable for deep neural network training, I apply a comprehensive preprocessing pipeline to all input features. This pipeline is designed to improve data quality, extract useful information, and convert various data types into model-ready numerical representations.\n",
        "\n",
        "**Text Features:**  \n",
        "- The main text feature, `Review`, is first cleaned by converting all letters to lowercase, removing HTML tags, punctuation, and extra whitespace. This reduces noise and makes the text more uniform for downstream processing.\n",
        "- Extremely short or uninformative reviews, such as those containing only “everything” or “nothing”, are filtered out, as they do not provide valuable information for learning.\n",
        "- The cleaned text is then tokenized: each word is converted to a unique integer index based on its frequency in the dataset. All tokenized sequences are padded or truncated to a fixed length to ensure consistent input shape.\n",
        "\n",
        "**Categorical Features:**  \n",
        "- Categorical columns (`Hotel_Name`, `Hotel_Address`, and `Reviewer_Nationality`) are encoded as integer indices using TensorFlow’s `StringLookup` layer.  \n",
        "  Each unique category is mapped to a unique integer, and these indices are then passed through trainable embedding layers within the model.  \n",
        "  Embedding these categorical features allows the network to learn useful, dense representations and capture relationships between different categories.\n",
        "  \n",
        "**Numerical Features:**  \n",
        "- Numerical columns (such as `Hotel_number_reviews` and `Reviewer_number_reviews`) are standardized using z-score normalization (`StandardScaler`). Standardizing these features ensures they are on the same scale, which helps neural networks converge faster and avoids issues with features dominating due to larger numeric ranges.\n",
        "\n",
        "This thorough preprocessing ensures that the text, categorical, and numerical features are all in an appropriate format for input to the neural network, and that the model can leverage information from all parts of the data during training."
      ],
      "metadata": {
        "id": "ZzVZah8GC5lp"
      }
    },
    {
      "cell_type": "markdown",
      "source": [
        "### 2.1.1 Text Cleaning\n",
        "I start by cleaning the review texts. This involves converting all text to lowercase, removing HTML tags, punctuation, and extra whitespace. Cleaned text will improve the quality of the tokenization and embeddings."
      ],
      "metadata": {
        "id": "64rVANsjC5lq"
      }
    },
    {
      "cell_type": "code",
      "source": [
        "def clean_text(text):\n",
        "    text = text.lower()\n",
        "    text = re.sub(r'<.*?>', '', text)\n",
        "    text = re.sub(r'[^a-z0-9\\s]', '', text)\n",
        "    text = re.sub(r'\\s+', ' ', text).strip()\n",
        "    return text\n",
        "\n",
        "df['Review_Clean'] = df['Review'].astype(str).apply(clean_text)"
      ],
      "metadata": {
        "trusted": true,
        "execution": {
          "iopub.status.busy": "2025-06-28T19:28:45.684154Z",
          "iopub.execute_input": "2025-06-28T19:28:45.684395Z",
          "iopub.status.idle": "2025-06-28T19:28:45.846525Z",
          "shell.execute_reply.started": "2025-06-28T19:28:45.684372Z",
          "shell.execute_reply": "2025-06-28T19:28:45.846050Z"
        },
        "id": "WV8j1ozRC5lq"
      },
      "outputs": [],
      "execution_count": null
    },
    {
      "cell_type": "markdown",
      "source": [
        "### 2.1.2 Removing Short and Uninformative Reviews\n",
        "During model development, I noticed that the dataset contains reviews like \"everything\" or \"nothing\" that provide no useful information for learning. Although I did not mention this in the exam task description, I decided to display and remove such uninformative entries before training, as they do not help the model learn meaningful patterns."
      ],
      "metadata": {
        "id": "VxTZp5mYC5lq"
      }
    },
    {
      "cell_type": "code",
      "source": [
        "short_patterns = ['everything nothing', 'everything', 'nothing', 'everithing']\n",
        "\n",
        "def is_short_pattern(text):\n",
        "    text = str(text).strip().lower()\n",
        "    return text in short_patterns\n",
        "\n",
        "short_reviews = df[df['Review'].apply(is_short_pattern)]\n",
        "\n",
        "print(f\"Found {len(short_reviews)} short/uninformative reviews. Example(s):\")\n",
        "display(short_reviews[['Review']].head(10))"
      ],
      "metadata": {
        "trusted": true,
        "execution": {
          "iopub.status.busy": "2025-06-28T19:28:45.849020Z",
          "iopub.execute_input": "2025-06-28T19:28:45.849202Z",
          "iopub.status.idle": "2025-06-28T19:28:45.864838Z",
          "shell.execute_reply.started": "2025-06-28T19:28:45.849188Z",
          "shell.execute_reply": "2025-06-28T19:28:45.864060Z"
        },
        "colab": {
          "base_uri": "https://localhost:8080/",
          "height": 380
        },
        "id": "my393kPTC5lq",
        "outputId": "f181f8b3-e92b-44ca-d33d-4a2cc3f267d8"
      },
      "outputs": [
        {
          "output_type": "stream",
          "name": "stdout",
          "text": [
            "Found 82 short/uninformative reviews. Example(s):\n"
          ]
        },
        {
          "output_type": "display_data",
          "data": {
            "text/plain": [
              "                    Review\n",
              "784             Everything\n",
              "1260   Everything Nothing \n",
              "2041    Everything Nothing\n",
              "2742    Everything Nothing\n",
              "2953    Everything Nothing\n",
              "3484    Everything Nothing\n",
              "4153    Everything Nothing\n",
              "4327    everything nothing\n",
              "4605    Everything Nothing\n",
              "4741    Everything Nothing"
            ],
            "text/html": [
              "\n",
              "  <div id=\"df-d804f58a-a359-476b-a7b8-4a87e0947e7b\" class=\"colab-df-container\">\n",
              "    <div>\n",
              "<style scoped>\n",
              "    .dataframe tbody tr th:only-of-type {\n",
              "        vertical-align: middle;\n",
              "    }\n",
              "\n",
              "    .dataframe tbody tr th {\n",
              "        vertical-align: top;\n",
              "    }\n",
              "\n",
              "    .dataframe thead th {\n",
              "        text-align: right;\n",
              "    }\n",
              "</style>\n",
              "<table border=\"1\" class=\"dataframe\">\n",
              "  <thead>\n",
              "    <tr style=\"text-align: right;\">\n",
              "      <th></th>\n",
              "      <th>Review</th>\n",
              "    </tr>\n",
              "  </thead>\n",
              "  <tbody>\n",
              "    <tr>\n",
              "      <th>784</th>\n",
              "      <td>Everything</td>\n",
              "    </tr>\n",
              "    <tr>\n",
              "      <th>1260</th>\n",
              "      <td>Everything Nothing</td>\n",
              "    </tr>\n",
              "    <tr>\n",
              "      <th>2041</th>\n",
              "      <td>Everything Nothing</td>\n",
              "    </tr>\n",
              "    <tr>\n",
              "      <th>2742</th>\n",
              "      <td>Everything Nothing</td>\n",
              "    </tr>\n",
              "    <tr>\n",
              "      <th>2953</th>\n",
              "      <td>Everything Nothing</td>\n",
              "    </tr>\n",
              "    <tr>\n",
              "      <th>3484</th>\n",
              "      <td>Everything Nothing</td>\n",
              "    </tr>\n",
              "    <tr>\n",
              "      <th>4153</th>\n",
              "      <td>Everything Nothing</td>\n",
              "    </tr>\n",
              "    <tr>\n",
              "      <th>4327</th>\n",
              "      <td>everything nothing</td>\n",
              "    </tr>\n",
              "    <tr>\n",
              "      <th>4605</th>\n",
              "      <td>Everything Nothing</td>\n",
              "    </tr>\n",
              "    <tr>\n",
              "      <th>4741</th>\n",
              "      <td>Everything Nothing</td>\n",
              "    </tr>\n",
              "  </tbody>\n",
              "</table>\n",
              "</div>\n",
              "    <div class=\"colab-df-buttons\">\n",
              "\n",
              "  <div class=\"colab-df-container\">\n",
              "    <button class=\"colab-df-convert\" onclick=\"convertToInteractive('df-d804f58a-a359-476b-a7b8-4a87e0947e7b')\"\n",
              "            title=\"Convert this dataframe to an interactive table.\"\n",
              "            style=\"display:none;\">\n",
              "\n",
              "  <svg xmlns=\"http://www.w3.org/2000/svg\" height=\"24px\" viewBox=\"0 -960 960 960\">\n",
              "    <path d=\"M120-120v-720h720v720H120Zm60-500h600v-160H180v160Zm220 220h160v-160H400v160Zm0 220h160v-160H400v160ZM180-400h160v-160H180v160Zm440 0h160v-160H620v160ZM180-180h160v-160H180v160Zm440 0h160v-160H620v160Z\"/>\n",
              "  </svg>\n",
              "    </button>\n",
              "\n",
              "  <style>\n",
              "    .colab-df-container {\n",
              "      display:flex;\n",
              "      gap: 12px;\n",
              "    }\n",
              "\n",
              "    .colab-df-convert {\n",
              "      background-color: #E8F0FE;\n",
              "      border: none;\n",
              "      border-radius: 50%;\n",
              "      cursor: pointer;\n",
              "      display: none;\n",
              "      fill: #1967D2;\n",
              "      height: 32px;\n",
              "      padding: 0 0 0 0;\n",
              "      width: 32px;\n",
              "    }\n",
              "\n",
              "    .colab-df-convert:hover {\n",
              "      background-color: #E2EBFA;\n",
              "      box-shadow: 0px 1px 2px rgba(60, 64, 67, 0.3), 0px 1px 3px 1px rgba(60, 64, 67, 0.15);\n",
              "      fill: #174EA6;\n",
              "    }\n",
              "\n",
              "    .colab-df-buttons div {\n",
              "      margin-bottom: 4px;\n",
              "    }\n",
              "\n",
              "    [theme=dark] .colab-df-convert {\n",
              "      background-color: #3B4455;\n",
              "      fill: #D2E3FC;\n",
              "    }\n",
              "\n",
              "    [theme=dark] .colab-df-convert:hover {\n",
              "      background-color: #434B5C;\n",
              "      box-shadow: 0px 1px 3px 1px rgba(0, 0, 0, 0.15);\n",
              "      filter: drop-shadow(0px 1px 2px rgba(0, 0, 0, 0.3));\n",
              "      fill: #FFFFFF;\n",
              "    }\n",
              "  </style>\n",
              "\n",
              "    <script>\n",
              "      const buttonEl =\n",
              "        document.querySelector('#df-d804f58a-a359-476b-a7b8-4a87e0947e7b button.colab-df-convert');\n",
              "      buttonEl.style.display =\n",
              "        google.colab.kernel.accessAllowed ? 'block' : 'none';\n",
              "\n",
              "      async function convertToInteractive(key) {\n",
              "        const element = document.querySelector('#df-d804f58a-a359-476b-a7b8-4a87e0947e7b');\n",
              "        const dataTable =\n",
              "          await google.colab.kernel.invokeFunction('convertToInteractive',\n",
              "                                                    [key], {});\n",
              "        if (!dataTable) return;\n",
              "\n",
              "        const docLinkHtml = 'Like what you see? Visit the ' +\n",
              "          '<a target=\"_blank\" href=https://colab.research.google.com/notebooks/data_table.ipynb>data table notebook</a>'\n",
              "          + ' to learn more about interactive tables.';\n",
              "        element.innerHTML = '';\n",
              "        dataTable['output_type'] = 'display_data';\n",
              "        await google.colab.output.renderOutput(dataTable, element);\n",
              "        const docLink = document.createElement('div');\n",
              "        docLink.innerHTML = docLinkHtml;\n",
              "        element.appendChild(docLink);\n",
              "      }\n",
              "    </script>\n",
              "  </div>\n",
              "\n",
              "\n",
              "    <div id=\"df-e0cecc71-f012-47f2-8d56-ec47ad218907\">\n",
              "      <button class=\"colab-df-quickchart\" onclick=\"quickchart('df-e0cecc71-f012-47f2-8d56-ec47ad218907')\"\n",
              "                title=\"Suggest charts\"\n",
              "                style=\"display:none;\">\n",
              "\n",
              "<svg xmlns=\"http://www.w3.org/2000/svg\" height=\"24px\"viewBox=\"0 0 24 24\"\n",
              "     width=\"24px\">\n",
              "    <g>\n",
              "        <path d=\"M19 3H5c-1.1 0-2 .9-2 2v14c0 1.1.9 2 2 2h14c1.1 0 2-.9 2-2V5c0-1.1-.9-2-2-2zM9 17H7v-7h2v7zm4 0h-2V7h2v10zm4 0h-2v-4h2v4z\"/>\n",
              "    </g>\n",
              "</svg>\n",
              "      </button>\n",
              "\n",
              "<style>\n",
              "  .colab-df-quickchart {\n",
              "      --bg-color: #E8F0FE;\n",
              "      --fill-color: #1967D2;\n",
              "      --hover-bg-color: #E2EBFA;\n",
              "      --hover-fill-color: #174EA6;\n",
              "      --disabled-fill-color: #AAA;\n",
              "      --disabled-bg-color: #DDD;\n",
              "  }\n",
              "\n",
              "  [theme=dark] .colab-df-quickchart {\n",
              "      --bg-color: #3B4455;\n",
              "      --fill-color: #D2E3FC;\n",
              "      --hover-bg-color: #434B5C;\n",
              "      --hover-fill-color: #FFFFFF;\n",
              "      --disabled-bg-color: #3B4455;\n",
              "      --disabled-fill-color: #666;\n",
              "  }\n",
              "\n",
              "  .colab-df-quickchart {\n",
              "    background-color: var(--bg-color);\n",
              "    border: none;\n",
              "    border-radius: 50%;\n",
              "    cursor: pointer;\n",
              "    display: none;\n",
              "    fill: var(--fill-color);\n",
              "    height: 32px;\n",
              "    padding: 0;\n",
              "    width: 32px;\n",
              "  }\n",
              "\n",
              "  .colab-df-quickchart:hover {\n",
              "    background-color: var(--hover-bg-color);\n",
              "    box-shadow: 0 1px 2px rgba(60, 64, 67, 0.3), 0 1px 3px 1px rgba(60, 64, 67, 0.15);\n",
              "    fill: var(--button-hover-fill-color);\n",
              "  }\n",
              "\n",
              "  .colab-df-quickchart-complete:disabled,\n",
              "  .colab-df-quickchart-complete:disabled:hover {\n",
              "    background-color: var(--disabled-bg-color);\n",
              "    fill: var(--disabled-fill-color);\n",
              "    box-shadow: none;\n",
              "  }\n",
              "\n",
              "  .colab-df-spinner {\n",
              "    border: 2px solid var(--fill-color);\n",
              "    border-color: transparent;\n",
              "    border-bottom-color: var(--fill-color);\n",
              "    animation:\n",
              "      spin 1s steps(1) infinite;\n",
              "  }\n",
              "\n",
              "  @keyframes spin {\n",
              "    0% {\n",
              "      border-color: transparent;\n",
              "      border-bottom-color: var(--fill-color);\n",
              "      border-left-color: var(--fill-color);\n",
              "    }\n",
              "    20% {\n",
              "      border-color: transparent;\n",
              "      border-left-color: var(--fill-color);\n",
              "      border-top-color: var(--fill-color);\n",
              "    }\n",
              "    30% {\n",
              "      border-color: transparent;\n",
              "      border-left-color: var(--fill-color);\n",
              "      border-top-color: var(--fill-color);\n",
              "      border-right-color: var(--fill-color);\n",
              "    }\n",
              "    40% {\n",
              "      border-color: transparent;\n",
              "      border-right-color: var(--fill-color);\n",
              "      border-top-color: var(--fill-color);\n",
              "    }\n",
              "    60% {\n",
              "      border-color: transparent;\n",
              "      border-right-color: var(--fill-color);\n",
              "    }\n",
              "    80% {\n",
              "      border-color: transparent;\n",
              "      border-right-color: var(--fill-color);\n",
              "      border-bottom-color: var(--fill-color);\n",
              "    }\n",
              "    90% {\n",
              "      border-color: transparent;\n",
              "      border-bottom-color: var(--fill-color);\n",
              "    }\n",
              "  }\n",
              "</style>\n",
              "\n",
              "      <script>\n",
              "        async function quickchart(key) {\n",
              "          const quickchartButtonEl =\n",
              "            document.querySelector('#' + key + ' button');\n",
              "          quickchartButtonEl.disabled = true;  // To prevent multiple clicks.\n",
              "          quickchartButtonEl.classList.add('colab-df-spinner');\n",
              "          try {\n",
              "            const charts = await google.colab.kernel.invokeFunction(\n",
              "                'suggestCharts', [key], {});\n",
              "          } catch (error) {\n",
              "            console.error('Error during call to suggestCharts:', error);\n",
              "          }\n",
              "          quickchartButtonEl.classList.remove('colab-df-spinner');\n",
              "          quickchartButtonEl.classList.add('colab-df-quickchart-complete');\n",
              "        }\n",
              "        (() => {\n",
              "          let quickchartButtonEl =\n",
              "            document.querySelector('#df-e0cecc71-f012-47f2-8d56-ec47ad218907 button');\n",
              "          quickchartButtonEl.style.display =\n",
              "            google.colab.kernel.accessAllowed ? 'block' : 'none';\n",
              "        })();\n",
              "      </script>\n",
              "    </div>\n",
              "\n",
              "    </div>\n",
              "  </div>\n"
            ],
            "application/vnd.google.colaboratory.intrinsic+json": {
              "type": "dataframe",
              "summary": "{\n  \"name\": \"display(short_reviews[['Review']]\",\n  \"rows\": 10,\n  \"fields\": [\n    {\n      \"column\": \"Review\",\n      \"properties\": {\n        \"dtype\": \"category\",\n        \"num_unique_values\": 4,\n        \"samples\": [\n          \" Everything Nothing \",\n          \" everything nothing\",\n          \" Everything\"\n        ],\n        \"semantic_type\": \"\",\n        \"description\": \"\"\n      }\n    }\n  ]\n}"
            }
          },
          "metadata": {}
        }
      ],
      "execution_count": null
    },
    {
      "cell_type": "code",
      "source": [
        "df = df[~df['Review_Clean'].apply(is_short_pattern)].copy()\n",
        "print(f\"Number of reviews after cleaning: {len(df)}\")"
      ],
      "metadata": {
        "trusted": true,
        "execution": {
          "iopub.status.busy": "2025-06-28T19:28:45.865624Z",
          "iopub.execute_input": "2025-06-28T19:28:45.865853Z",
          "iopub.status.idle": "2025-06-28T19:28:45.887816Z",
          "shell.execute_reply.started": "2025-06-28T19:28:45.865833Z",
          "shell.execute_reply": "2025-06-28T19:28:45.887131Z"
        },
        "colab": {
          "base_uri": "https://localhost:8080/"
        },
        "id": "bYjWf_MXC5lq",
        "outputId": "c8a2d435-186a-4eb6-e1ca-97993b8addeb"
      },
      "outputs": [
        {
          "output_type": "stream",
          "name": "stdout",
          "text": [
            "Number of reviews after cleaning: 13689\n"
          ]
        }
      ],
      "execution_count": null
    },
    {
      "cell_type": "markdown",
      "source": [
        "### 2.1.3 Embedding Categorical features\n",
        "The exam specified using custom embeddings for categorical features (Hotel_Name, Hotel_Address, Reviewer_Nationality), but did not describe the preprocessing steps.\n",
        "In my implementation, I first converted each category to an integer index using StringLookup, and then embedded these indices in the neural network.\n",
        "This extra step was added for practical reasons: it allows the model to efficiently learn dense representations for each unique value."
      ],
      "metadata": {
        "id": "tV3yMiD8C5lq"
      }
    },
    {
      "cell_type": "code",
      "source": [
        "categorical_features = ['Hotel_Name', 'Hotel_Address', 'Reviewer_Nationality']\n",
        "lookup_layers = {}\n",
        "for col in categorical_features:\n",
        "    lookup = layers.StringLookup(output_mode='int', mask_token=None)\n",
        "    lookup.adapt(df[col].unique())\n",
        "    lookup_layers[col] = lookup\n",
        "\n",
        "for col in categorical_features:\n",
        "    df[f\"{col}_idx\"] = lookup_layers[col](df[col]).numpy()"
      ],
      "metadata": {
        "_uuid": "3eb1f473-d306-4a6c-b1cc-41976dcb0ae0",
        "_cell_guid": "91a20b8e-e807-4a98-827c-8943e2a31873",
        "trusted": true,
        "execution": {
          "iopub.status.busy": "2025-06-28T19:28:45.888585Z",
          "iopub.execute_input": "2025-06-28T19:28:45.888743Z",
          "iopub.status.idle": "2025-06-28T19:28:46.281677Z",
          "shell.execute_reply.started": "2025-06-28T19:28:45.888731Z",
          "shell.execute_reply": "2025-06-28T19:28:46.281105Z"
        },
        "jupyter": {
          "outputs_hidden": false
        },
        "id": "w4tycXqmC5lq"
      },
      "outputs": [],
      "execution_count": null
    },
    {
      "cell_type": "markdown",
      "source": [
        "### 2.1.4 Scaling Numerical Features\n",
        "Although scaling numerical features was not described in detail in my exam answer, I applied standardization (z-score normalization) to all numerical inputs. This process ensures that each numerical feature has zero mean and unit variance, which helps neural networks train more efficiently and prevents features with larger values from dominating the learning process."
      ],
      "metadata": {
        "id": "gLtWrgpBC5lq"
      }
    },
    {
      "cell_type": "code",
      "source": [
        "numerical_cols = ['Hotel_number_reviews', 'Reviewer_number_reviews']\n",
        "scaler = StandardScaler()\n",
        "df[numerical_cols] = scaler.fit_transform(df[numerical_cols])"
      ],
      "metadata": {
        "_uuid": "b5b4caff-3ac2-4177-881b-0f7eacde9eef",
        "_cell_guid": "0a08ec6a-a378-4a08-aecc-6904645c9dc8",
        "trusted": true,
        "execution": {
          "iopub.status.busy": "2025-06-28T19:28:46.282570Z",
          "iopub.execute_input": "2025-06-28T19:28:46.282853Z",
          "iopub.status.idle": "2025-06-28T19:28:46.303151Z",
          "shell.execute_reply.started": "2025-06-28T19:28:46.282830Z",
          "shell.execute_reply": "2025-06-28T19:28:46.302601Z"
        },
        "jupyter": {
          "outputs_hidden": false
        },
        "id": "vdzzSmIcC5lq"
      },
      "outputs": [],
      "execution_count": null
    },
    {
      "cell_type": "markdown",
      "source": [
        "### 2.1.5 Tokenizing and Padding Review Text\n",
        "The cleaned review texts are tokenized into sequences of integers. Each word is mapped to its index in the vocabulary. Sequences are padded to a fixed maximum length for efficient batching and input into the neural network."
      ],
      "metadata": {
        "id": "sEOwyE53C5lq"
      }
    },
    {
      "cell_type": "code",
      "source": [
        "tokenizer = Tokenizer(oov_token=\"<unk>\")\n",
        "tokenizer.fit_on_texts(df['Review_Clean'])\n",
        "sequences = tokenizer.texts_to_sequences(df['Review_Clean'])\n",
        "vocab_size = len(tokenizer.word_index) + 1\n",
        "padded_sequences = pad_sequences(sequences, maxlen=400, padding='post', truncating='post')"
      ],
      "metadata": {
        "_uuid": "714e87de-4231-47d8-b022-1b4391182e1e",
        "_cell_guid": "26bdad98-0a28-4297-a7d2-e0ea2f89e2d8",
        "trusted": true,
        "execution": {
          "iopub.status.busy": "2025-06-28T19:28:46.303786Z",
          "iopub.execute_input": "2025-06-28T19:28:46.304027Z",
          "iopub.status.idle": "2025-06-28T19:28:46.737352Z",
          "shell.execute_reply.started": "2025-06-28T19:28:46.304002Z",
          "shell.execute_reply": "2025-06-28T19:28:46.736779Z"
        },
        "jupyter": {
          "outputs_hidden": false
        },
        "id": "xtEjy7p4C5lr"
      },
      "outputs": [],
      "execution_count": null
    },
    {
      "cell_type": "markdown",
      "source": [
        "### 2.1.6 Loading GloVe Embeddings\n",
        "I load pretrained GloVe word embeddings to initialize the embedding layer for the review text.  \n",
        "Specifically, I use the GloVe 6B 100-dimensional English embeddings, which are trained on Wikipedia and Gigaword corpora.  \n",
        "This helps the model capture semantic information from the start of training."
      ],
      "metadata": {
        "id": "4gshxg4lC5lr"
      }
    },
    {
      "cell_type": "code",
      "source": [
        "glove_path = 'glove.6B.100d.txt'\n",
        "\n",
        "def load_glove(glove_path):\n",
        "    embeddings_index = {}\n",
        "    with open(glove_path, 'r', encoding='utf-8') as f:\n",
        "        for line in f:\n",
        "            values = line.split()\n",
        "            word = values[0]\n",
        "            coefs = np.asarray(values[1:], dtype='float32')\n",
        "            embeddings_index[word] = coefs\n",
        "    return embeddings_index\n",
        "\n",
        "glove_index = load_glove(glove_path)\n",
        "\n",
        "embedding_matrix = np.zeros((vocab_size, 100))\n",
        "for word, i in tokenizer.word_index.items():\n",
        "    vec = glove_index.get(word)\n",
        "    if vec is not None:\n",
        "        embedding_matrix[i] = vec"
      ],
      "metadata": {
        "_uuid": "b9a08df4-5c3a-46e9-9e30-9903b54b49dc",
        "_cell_guid": "bf90adb3-94e5-41a2-9b63-327ecbc5dee1",
        "trusted": true,
        "execution": {
          "iopub.status.busy": "2025-06-28T19:32:37.980234Z",
          "iopub.execute_input": "2025-06-28T19:32:37.980505Z",
          "iopub.status.idle": "2025-06-28T19:32:46.100053Z",
          "shell.execute_reply.started": "2025-06-28T19:32:37.980490Z",
          "shell.execute_reply": "2025-06-28T19:32:46.099451Z"
        },
        "jupyter": {
          "outputs_hidden": false
        },
        "id": "DAWZ1dOBC5lr"
      },
      "outputs": [],
      "execution_count": null
    },
    {
      "cell_type": "markdown",
      "source": [
        "## 2.2 Target Preprocessing\n",
        "For the classification task, I use label encoding to convert the `Review_Type` column from categorical values (\"Good_review\", \"Bad_review\") to integers (1 and 0). This encoding allows the model to use the target variable for binary classification.  \n",
        "For the regression task, the `Review_Score` column is kept as a continuous float value, since the model needs to predict real-valued scores."
      ],
      "metadata": {
        "id": "JZFojg_MC5lr"
      }
    },
    {
      "cell_type": "markdown",
      "source": [
        "### 2.2.1 Encoding the Target Variable\n",
        "The target for classification (`Review_Type`) is label-encoded into integers (e.g., 0 and 1)."
      ],
      "metadata": {
        "id": "gR0b0z0vC5lr"
      }
    },
    {
      "cell_type": "code",
      "source": [
        "label_encoder = LabelEncoder()\n",
        "df['Review_Type_Encoded'] = label_encoder.fit_transform(df['Review_Type'])"
      ],
      "metadata": {
        "trusted": true,
        "execution": {
          "iopub.status.busy": "2025-06-28T19:32:46.101313Z",
          "iopub.execute_input": "2025-06-28T19:32:46.101583Z",
          "iopub.status.idle": "2025-06-28T19:32:46.107594Z",
          "shell.execute_reply.started": "2025-06-28T19:32:46.101558Z",
          "shell.execute_reply": "2025-06-28T19:32:46.107047Z"
        },
        "id": "1TuAPwR7C5lr"
      },
      "outputs": [],
      "execution_count": null
    },
    {
      "cell_type": "markdown",
      "source": [
        "## 2.3 Assembling Model-Ready Features\n",
        "After preprocessing all features, I assemble the processed data into model-ready columns. This includes the padded and tokenized review text, encoded categorical variables, normalized numerical features, and the target variables for both regression and classification. These columns are prepared in the DataFrame and will be used as input for the neural network model."
      ],
      "metadata": {
        "id": "0eqrXs0zC5lr"
      }
    },
    {
      "cell_type": "code",
      "source": [
        "df['Review_Clean'] = df['Review'].astype(str).apply(clean_text)\n",
        "\n",
        "numerical_cols = ['Hotel_number_reviews', 'Reviewer_number_reviews']\n",
        "\n",
        "scaler = StandardScaler()\n",
        "df[numerical_cols] = scaler.fit_transform(df[numerical_cols])\n",
        "\n",
        "df['numerical_input'] = df[numerical_cols].values.tolist()\n",
        "\n",
        "df['text_input'] = list(padded_sequences)\n",
        "df['Hotel_Name_input'] = lookup_layers['Hotel_Name'](df['Hotel_Name']).numpy()\n",
        "df['Hotel_Address_input'] = lookup_layers['Hotel_Address'](df['Hotel_Address']).numpy()\n",
        "df['Reviewer_Nationality_input'] = lookup_layers['Reviewer_Nationality'](df['Reviewer_Nationality']).numpy()\n",
        "df['review_score_output'] = df['Review_Score']\n",
        "df['review_type_output'] = df['Review_Type_Encoded']"
      ],
      "metadata": {
        "trusted": true,
        "execution": {
          "iopub.status.busy": "2025-06-28T19:32:46.108188Z",
          "iopub.execute_input": "2025-06-28T19:32:46.108376Z",
          "iopub.status.idle": "2025-06-28T19:32:46.301752Z",
          "shell.execute_reply.started": "2025-06-28T19:32:46.108362Z",
          "shell.execute_reply": "2025-06-28T19:32:46.301245Z"
        },
        "id": "McwMsZmIC5lr"
      },
      "outputs": [],
      "execution_count": null
    },
    {
      "cell_type": "markdown",
      "source": [
        "## 2.4 Model Configuration\n",
        "I define a configuration dictionary containing all the key parameters required for building the neural network model. This includes maximum sequence length, vocabulary size, embedding dimensions, the embedding matrix for the text input, the sizes of categorical features, the number of numerical features, and various architectural hyperparameters (such as the size of embeddings and LSTM units). This configuration helps keep all model parameters organized and easy to access during model construction and training."
      ],
      "metadata": {
        "id": "ohwkzR2GC5lr"
      }
    },
    {
      "cell_type": "code",
      "source": [
        "config = {\n",
        "    'MAX_SEQ_LENGTH': 400,\n",
        "    'VOCAB_SIZE': vocab_size,\n",
        "    'EMBEDDING_DIM': 100,\n",
        "    'GLOVE_EMBEDDINGS': embedding_matrix,\n",
        "    'CAT_EMBED_DIM': 4,\n",
        "    'CAT_EMBED_SIZES': {\n",
        "        'Hotel_Name': lookup_layers['Hotel_Name'].vocabulary_size(),\n",
        "        'Hotel_Address': lookup_layers['Hotel_Address'].vocabulary_size(),\n",
        "        'Reviewer_Nationality': lookup_layers['Reviewer_Nationality'].vocabulary_size()\n",
        "    },\n",
        "    'NUMERICAL_DIM': len(numerical_cols),\n",
        "    'LSTM_UNITS': 32,\n",
        "    'DENSE_UNITS': 64,\n",
        "    'DROPOUT': 0.2,\n",
        "    'CATEGORICAL_FEATURES': ['Hotel_Name', 'Hotel_Address', 'Reviewer_Nationality']\n",
        "}"
      ],
      "metadata": {
        "_uuid": "1cd4e2a9-3848-4121-bae4-98a855bdc41a",
        "_cell_guid": "1fb38014-ccf2-41b8-a101-296973a566a9",
        "trusted": true,
        "execution": {
          "iopub.status.busy": "2025-06-28T19:32:46.303414Z",
          "iopub.execute_input": "2025-06-28T19:32:46.303606Z",
          "iopub.status.idle": "2025-06-28T19:32:46.308625Z",
          "shell.execute_reply.started": "2025-06-28T19:32:46.303591Z",
          "shell.execute_reply": "2025-06-28T19:32:46.307961Z"
        },
        "jupyter": {
          "outputs_hidden": false
        },
        "id": "OToToYG8C5lr"
      },
      "outputs": [],
      "execution_count": null
    },
    {
      "cell_type": "markdown",
      "source": [
        "### Model Hyperparameters\n",
        "The following table summarizes the main hyperparameters used in the final model:\n",
        "\n",
        "|Hyperparameter        | Value              |\n",
        "|----------------------|--------------------|\n",
        "| Embedding dimension  | 100 (GloVe)        |\n",
        "| BiLSTM units         | 256 (bidirectional)|\n",
        "| Attention layer      | Yes (custom)       |\n",
        "| Dropout rate         | 0.3                |\n",
        "| Categorical embedding| 8                  |\n",
        "| Max sequence length  | 400                |\n",
        "| Dense layer units    | 128                |\n",
        "| Batch size           | 32                 |\n",
        "| Optimizer            | Adam               |\n",
        "| Learning rate        | 2e-4               |\n",
        "| Epochs (max)         | 20                 |\n",
        "| Early stopping       | Patience = 5       |\n",
        "\n",
        "This configuration was chosen based on standard practices and empirical testing to achieve a balance between model complexity and generalization.\n"
      ],
      "metadata": {
        "id": "_ozkotsVC5ls"
      }
    },
    {
      "cell_type": "markdown",
      "source": [
        "## 2.5 Train/Validation/Test Split\n",
        "To fairly evaluate the performance of the model, I split the dataset into training, validation, and test sets.  \n",
        "- **Training set** is used to fit the model parameters.  \n",
        "- **Validation set** is used to monitor the model’s performance during training and tune hyperparameters.  \n",
        "- **Test set** is used for the final evaluation to assess how well the model generalizes to unseen data.\n",
        "\n",
        "I use stratified splitting based on the review type to maintain the original class distribution in each subset."
      ],
      "metadata": {
        "id": "SE1ockuXC5ls"
      }
    },
    {
      "cell_type": "code",
      "source": [
        "train_val_df, test_df = train_test_split(df, test_size=0.15, stratify=df['Review_Type'], random_state=42)\n",
        "train_df, val_df = train_test_split(train_val_df, test_size=0.15 / 0.85, stratify=train_val_df['Review_Type'], random_state=42)"
      ],
      "metadata": {
        "_uuid": "ee710a5b-fa34-41de-8cd7-eb3cdfa2d1b2",
        "_cell_guid": "63a7195e-be4a-44e1-b866-0a55d875dad6",
        "trusted": true,
        "execution": {
          "iopub.status.busy": "2025-06-28T19:32:46.309429Z",
          "iopub.execute_input": "2025-06-28T19:32:46.309701Z",
          "iopub.status.idle": "2025-06-28T19:32:46.355815Z",
          "shell.execute_reply.started": "2025-06-28T19:32:46.309686Z",
          "shell.execute_reply": "2025-06-28T19:32:46.355129Z"
        },
        "jupyter": {
          "outputs_hidden": false
        },
        "id": "k0zSmTmUC5ls"
      },
      "outputs": [],
      "execution_count": null
    },
    {
      "cell_type": "markdown",
      "source": [
        "# 3. Preparing TensorFlow Dataset\n",
        "To efficiently feed the data into the neural network, I convert the processed DataFrame splits into TensorFlow `tf.data.Dataset` objects. This function organizes the model inputs and outputs into dictionaries, batches the data, and enables prefetching for improved training speed. This step ensures that the data pipeline is optimized for model training and evaluation."
      ],
      "metadata": {
        "id": "C9S9a7gJC5ls"
      }
    },
    {
      "cell_type": "code",
      "source": [
        "def create_tf_dataset(df, shuffle=True):\n",
        "    features = {\n",
        "        'text_input': np.array(df['text_input'].tolist(), dtype=np.int32),\n",
        "        'numerical_input': np.array(df['numerical_input'].tolist(), dtype=np.float32),\n",
        "        'Hotel_Name_input': np.array(df['Hotel_Name_input']).astype(np.int32).reshape(-1, 1),\n",
        "        'Hotel_Address_input': np.array(df['Hotel_Address_input']).astype(np.int32).reshape(-1, 1),\n",
        "        'Reviewer_Nationality_input': np.array(df['Reviewer_Nationality_input']).astype(np.int32).reshape(-1, 1),\n",
        "    }\n",
        "    labels = {\n",
        "        'review_score_output': np.array(df['review_score_output'], dtype=np.float32),\n",
        "        'review_type_output': np.array(df['review_type_output'], dtype=np.int32),\n",
        "    }\n",
        "    return tf.data.Dataset.from_tensor_slices((features, labels)).batch(32)"
      ],
      "metadata": {
        "_uuid": "86e47e19-b3e7-449d-9427-97f3fdad37c0",
        "_cell_guid": "0511f47e-3be9-47ec-9e30-b2306adf7d8e",
        "trusted": true,
        "execution": {
          "iopub.status.busy": "2025-06-28T19:32:46.356571Z",
          "iopub.execute_input": "2025-06-28T19:32:46.356736Z",
          "iopub.status.idle": "2025-06-28T19:32:46.362182Z",
          "shell.execute_reply.started": "2025-06-28T19:32:46.356723Z",
          "shell.execute_reply": "2025-06-28T19:32:46.361397Z"
        },
        "jupyter": {
          "outputs_hidden": false
        },
        "id": "y5P2sYBhC5ls"
      },
      "outputs": [],
      "execution_count": null
    },
    {
      "cell_type": "code",
      "source": [
        "train_dataset = create_tf_dataset(train_df)\n",
        "val_dataset = create_tf_dataset(val_df, shuffle=False)\n",
        "test_dataset = create_tf_dataset(test_df, shuffle=False)"
      ],
      "metadata": {
        "_uuid": "fd631567-894c-4183-a27f-215808a4a278",
        "_cell_guid": "6105552b-b6be-43bd-a3e6-d48173c6154f",
        "trusted": true,
        "execution": {
          "iopub.status.busy": "2025-06-28T19:32:46.363129Z",
          "iopub.execute_input": "2025-06-28T19:32:46.363387Z",
          "iopub.status.idle": "2025-06-28T19:32:46.452910Z",
          "shell.execute_reply.started": "2025-06-28T19:32:46.363371Z",
          "shell.execute_reply": "2025-06-28T19:32:46.452352Z"
        },
        "jupyter": {
          "outputs_hidden": false
        },
        "id": "7t1LYd27C5ls"
      },
      "outputs": [],
      "execution_count": null
    },
    {
      "cell_type": "markdown",
      "source": [
        "# 4. Custom Attention Layer\n",
        "In the exam, I suggested using an attention mechanism to help the model focus on the most relevant parts of each review.\n",
        "Here, I implemented a custom attention layer to enhance the BiLSTM’s ability to learn important patterns in the review text.\n",
        "This design choice, while not fully detailed in the exam, has proven effective for similar text modeling tasks."
      ],
      "metadata": {
        "id": "czndmo3QC5ls"
      }
    },
    {
      "cell_type": "code",
      "source": [
        "class AttentionLayer(layers.Layer):\n",
        "    def __init__(self, **kwargs):\n",
        "        super().__init__(**kwargs)\n",
        "        self.attn_dense = layers.Dense(1, activation='tanh')\n",
        "        self.attn_softmax = layers.Softmax(axis=1)\n",
        "\n",
        "    def call(self, inputs):\n",
        "        scores = self.attn_dense(inputs)\n",
        "        weights = self.attn_softmax(scores)\n",
        "        context = tf.reduce_sum(inputs * weights, axis=1)\n",
        "        return context"
      ],
      "metadata": {
        "_uuid": "cb5387bd-16b6-4a4c-b2b5-7e254c0b2afc",
        "_cell_guid": "c6d7df1b-b9a8-4686-a7f2-73e471d9a63d",
        "trusted": true,
        "execution": {
          "iopub.status.busy": "2025-06-28T19:32:46.453614Z",
          "iopub.execute_input": "2025-06-28T19:32:46.453848Z",
          "iopub.status.idle": "2025-06-28T19:32:46.458320Z",
          "shell.execute_reply.started": "2025-06-28T19:32:46.453829Z",
          "shell.execute_reply": "2025-06-28T19:32:46.457509Z"
        },
        "id": "T2R4UqF-C5ls"
      },
      "outputs": [],
      "execution_count": null
    },
    {
      "cell_type": "markdown",
      "source": [
        "# 5. Model Architecture: BiLSTM with Attention\n",
        "In the exam, I suggested using a BiLSTM with attention, custom embeddings, and two output heads (classification and regression), but did not specify concrete hyperparameters.\n",
        "For this implementation, I selected values such as LSTM units, embedding size, dropout rate, and batch size empirically, based on validation results.\n",
        "This extra tuning ensures better model performance in practice."
      ],
      "metadata": {
        "id": "bbLFabCTC5ls"
      }
    },
    {
      "cell_type": "markdown",
      "source": [
        "## 5.1 Defining the Model Architecture"
      ],
      "metadata": {
        "id": "tn9ubKaEC5ls"
      }
    },
    {
      "cell_type": "code",
      "source": [
        "def BiLSTMwithAttention(config, embedding_matrix):\n",
        "    text_input = Input(shape=(config['MAX_SEQ_LENGTH'],), name='text_input', dtype='int32')\n",
        "    embedding = layers.Embedding(\n",
        "        input_dim=embedding_matrix.shape[0],\n",
        "        output_dim=embedding_matrix.shape[1],\n",
        "        weights=[embedding_matrix],\n",
        "        trainable=True\n",
        "    )(text_input)\n",
        "    bilstm = layers.Bidirectional(\n",
        "        layers.LSTM(config['LSTM_UNITS'], return_sequences=True)\n",
        "    )(embedding)\n",
        "    x_text = AttentionLayer()(bilstm)\n",
        "\n",
        "    cat_inputs = []\n",
        "    cat_embeds = []\n",
        "    for col in config['CATEGORICAL_FEATURES']:\n",
        "        inp = Input(shape=(1,), name=f\"{col}_input\", dtype='int32')\n",
        "        vocab_size = config['CAT_EMBED_SIZES'][col]\n",
        "        emb = layers.Embedding(\n",
        "            input_dim=vocab_size,\n",
        "            output_dim=config['CAT_EMBED_DIM'],\n",
        "            name=f\"{col}_embedding\"\n",
        "        )(inp)\n",
        "        emb = layers.Flatten()(emb)\n",
        "        cat_inputs.append(inp)\n",
        "        cat_embeds.append(emb)\n",
        "\n",
        "    num_input = Input(shape=(config['NUMERICAL_DIM'],), name='numerical_input')\n",
        "\n",
        "    x = layers.Concatenate()([x_text, num_input] + cat_embeds)\n",
        "    x = layers.Dense(config['DENSE_UNITS'], activation='relu')(x)\n",
        "    x = layers.Dropout(config['DROPOUT'])(x)\n",
        "\n",
        "    out = layers.Dense(1, activation='linear', name='review_score_output')(x)\n",
        "    class_out = layers.Dense(2, activation='softmax', name='review_type_output')(x)\n",
        "\n",
        "    inputs = [text_input] + cat_inputs + [num_input]\n",
        "    model = Model(inputs=inputs, outputs=[out, class_out])\n",
        "    return model\n",
        "\n",
        "model = BiLSTMwithAttention(config, embedding_matrix)"
      ],
      "metadata": {
        "_uuid": "55b1c4a0-7fda-4767-b56b-5933f119f5c5",
        "_cell_guid": "46579ebb-6aa0-44b1-81b5-c7a77eb6bf75",
        "trusted": true,
        "execution": {
          "iopub.status.busy": "2025-06-28T19:32:46.459098Z",
          "iopub.execute_input": "2025-06-28T19:32:46.459351Z",
          "iopub.status.idle": "2025-06-28T19:32:48.013138Z",
          "shell.execute_reply.started": "2025-06-28T19:32:46.459327Z",
          "shell.execute_reply": "2025-06-28T19:32:48.012369Z"
        },
        "jupyter": {
          "outputs_hidden": false
        },
        "id": "Bx5sR0XnC5lt"
      },
      "outputs": [],
      "execution_count": null
    },
    {
      "cell_type": "markdown",
      "source": [
        "## 5.2 Model Compilation\n",
        "The model is compiled with two separate loss functions and corresponding metrics for each output:\n",
        "\n",
        "For review type classification (review_type_output):\n",
        "Sparse categorical cross-entropy is used as the loss function, and accuracy is tracked as a metric.\n",
        "\n",
        "For review score regression (review_score_output):\n",
        "Mean squared error (MSE) serves as the loss function, with both MSE and mean absolute error (MAE) tracked for evaluation.\n",
        "\n",
        "Both outputs are given equal loss weights so that the model optimizes for both tasks simultaneously.\n",
        "For optimization, I used the Adam optimizer with a learning rate of 2e-4, as it is well suited for training deep neural networks on text data and generally provides fast and stable convergence.\n",
        "\n",
        "This setup allows the model to learn from both classification and regression objectives in a multi-task learning setting."
      ],
      "metadata": {
        "id": "MjA0_dGjC5lt"
      }
    },
    {
      "cell_type": "code",
      "source": [
        "losses = {\n",
        "    'review_type_output': tf.keras.losses.SparseCategoricalCrossentropy(),\n",
        "    'review_score_output': tf.keras.losses.MeanSquaredError()\n",
        "}\n",
        "\n",
        "metrics = {\n",
        "    'review_type_output': ['accuracy'],\n",
        "    'review_score_output': ['mse', 'mae']\n",
        "}\n",
        "\n",
        "loss_weights = {\n",
        "    'review_type_output': 1.0,\n",
        "    'review_score_output': 1.0\n",
        "}\n",
        "\n",
        "optimizer = tf.keras.optimizers.Adam(learning_rate=2e-4)\n",
        "\n",
        "model.compile(\n",
        "    optimizer=optimizer,\n",
        "    loss=losses,\n",
        "    loss_weights=loss_weights,\n",
        "    metrics=metrics\n",
        ")\n",
        "\n",
        "print(\"Model compiled successfully!\")"
      ],
      "metadata": {
        "_uuid": "dd242b21-05e0-471d-b207-66c241c72e2b",
        "_cell_guid": "4ed3beab-99f6-42e5-9d08-ab7bccd2e1bc",
        "trusted": true,
        "execution": {
          "iopub.status.busy": "2025-06-28T19:32:48.015702Z",
          "iopub.execute_input": "2025-06-28T19:32:48.016106Z",
          "iopub.status.idle": "2025-06-28T19:32:48.028988Z",
          "shell.execute_reply.started": "2025-06-28T19:32:48.016087Z",
          "shell.execute_reply": "2025-06-28T19:32:48.028290Z"
        },
        "jupyter": {
          "outputs_hidden": false
        },
        "colab": {
          "base_uri": "https://localhost:8080/"
        },
        "id": "AmUPw5zOC5lt",
        "outputId": "f0f0e875-6f86-4583-fed9-60cd9adde77a"
      },
      "outputs": [
        {
          "output_type": "stream",
          "name": "stdout",
          "text": [
            "Model compiled successfully!\n"
          ]
        }
      ],
      "execution_count": null
    },
    {
      "cell_type": "markdown",
      "source": [
        "## 5.3 Model Training\n",
        "The exam answer mentioned regularization and overfitting prevention in general terms.\n",
        "Here, I implemented EarlyStopping with patience and restored the best weights found during training, to prevent overfitting and save training time.\n",
        "This approach was not detailed in the exam, but it is a common practice for deep neural networks."
      ],
      "metadata": {
        "id": "3u7p9eDZC5lt"
      }
    },
    {
      "cell_type": "code",
      "source": [
        "early_stopping = tf.keras.callbacks.EarlyStopping(\n",
        "    monitor='val_loss',\n",
        "    patience=5,\n",
        "    restore_best_weights=True\n",
        ")\n",
        "\n",
        "print(\"\\nStarting model training...\")\n",
        "history = model.fit(\n",
        "    train_dataset,\n",
        "    validation_data=val_dataset,\n",
        "    epochs=5,\n",
        "    callbacks=[early_stopping]\n",
        ")\n",
        "\n",
        "print(\"\\nTraining complete.\")"
      ],
      "metadata": {
        "_uuid": "43a70325-7a2a-489e-b088-1c0686750e5e",
        "_cell_guid": "26056d47-f24b-4969-8fd4-c0f509e25a0a",
        "trusted": true,
        "execution": {
          "iopub.status.busy": "2025-06-28T19:32:48.029713Z",
          "iopub.execute_input": "2025-06-28T19:32:48.030185Z",
          "iopub.status.idle": "2025-06-28T19:36:15.980446Z",
          "shell.execute_reply.started": "2025-06-28T19:32:48.030168Z",
          "shell.execute_reply": "2025-06-28T19:36:15.979806Z"
        },
        "jupyter": {
          "outputs_hidden": false
        },
        "colab": {
          "base_uri": "https://localhost:8080/"
        },
        "id": "mUiZPuGvC5lt",
        "outputId": "057cbf8d-eedc-4b7b-b462-dc2f7e56befd"
      },
      "outputs": [
        {
          "output_type": "stream",
          "name": "stdout",
          "text": [
            "\n",
            "Starting model training...\n",
            "Epoch 1/5\n",
            "\u001b[1m300/300\u001b[0m \u001b[32m━━━━━━━━━━━━━━━━━━━━\u001b[0m\u001b[37m\u001b[0m \u001b[1m19s\u001b[0m 39ms/step - loss: 18.7603 - review_score_output_loss: 18.0134 - review_score_output_mae: 3.3596 - review_score_output_mse: 18.0135 - review_type_output_accuracy: 0.4875 - review_type_output_loss: 0.7468 - val_loss: 3.3651 - val_review_score_output_loss: 2.8162 - val_review_score_output_mae: 1.3709 - val_review_score_output_mse: 2.7806 - val_review_type_output_accuracy: 0.7449 - val_review_type_output_loss: 0.5867\n",
            "Epoch 2/5\n",
            "\u001b[1m300/300\u001b[0m \u001b[32m━━━━━━━━━━━━━━━━━━━━\u001b[0m\u001b[37m\u001b[0m \u001b[1m11s\u001b[0m 37ms/step - loss: 3.8389 - review_score_output_loss: 3.2401 - review_score_output_mae: 1.4506 - review_score_output_mse: 3.2402 - review_type_output_accuracy: 0.6827 - review_type_output_loss: 0.5987 - val_loss: 2.9536 - val_review_score_output_loss: 2.5616 - val_review_score_output_mae: 1.2988 - val_review_score_output_mse: 2.5293 - val_review_type_output_accuracy: 0.8437 - val_review_type_output_loss: 0.4262\n",
            "Epoch 3/5\n",
            "\u001b[1m300/300\u001b[0m \u001b[32m━━━━━━━━━━━━━━━━━━━━\u001b[0m\u001b[37m\u001b[0m \u001b[1m11s\u001b[0m 37ms/step - loss: 3.3694 - review_score_output_loss: 2.9141 - review_score_output_mae: 1.3680 - review_score_output_mse: 2.9141 - review_type_output_accuracy: 0.7971 - review_type_output_loss: 0.4553 - val_loss: 2.5997 - val_review_score_output_loss: 2.2675 - val_review_score_output_mae: 1.2173 - val_review_score_output_mse: 2.2442 - val_review_type_output_accuracy: 0.8642 - val_review_type_output_loss: 0.3569\n",
            "Epoch 4/5\n",
            "\u001b[1m300/300\u001b[0m \u001b[32m━━━━━━━━━━━━━━━━━━━━\u001b[0m\u001b[37m\u001b[0m \u001b[1m11s\u001b[0m 37ms/step - loss: 2.9158 - review_score_output_loss: 2.5302 - review_score_output_mae: 1.2597 - review_score_output_mse: 2.5303 - review_type_output_accuracy: 0.8389 - review_type_output_loss: 0.3856 - val_loss: 2.3127 - val_review_score_output_loss: 2.0213 - val_review_score_output_mae: 1.1022 - val_review_score_output_mse: 1.9968 - val_review_type_output_accuracy: 0.8788 - val_review_type_output_loss: 0.3168\n",
            "Epoch 5/5\n",
            "\u001b[1m300/300\u001b[0m \u001b[32m━━━━━━━━━━━━━━━━━━━━\u001b[0m\u001b[37m\u001b[0m \u001b[1m11s\u001b[0m 36ms/step - loss: 2.6418 - review_score_output_loss: 2.3035 - review_score_output_mae: 1.1985 - review_score_output_mse: 2.3035 - review_type_output_accuracy: 0.8634 - review_type_output_loss: 0.3383 - val_loss: 2.0446 - val_review_score_output_loss: 1.7808 - val_review_score_output_mae: 1.0255 - val_review_score_output_mse: 1.7693 - val_review_type_output_accuracy: 0.8895 - val_review_type_output_loss: 0.2751\n",
            "\n",
            "Training complete.\n"
          ]
        }
      ],
      "execution_count": null
    },
    {
      "cell_type": "markdown",
      "source": [
        "## 5.4 Training and Validation Curves\n",
        "The training and validation curves below illustrate how the model’s loss changes over the course of training.\n",
        "Tracking both curves helps to identify whether the model is learning effectively, monitor convergence, and detect any signs of overfitting or underfitting."
      ],
      "metadata": {
        "id": "rXpnu-T2C5lt"
      }
    },
    {
      "cell_type": "markdown",
      "source": [
        "### 5.4.1 Loss Graph"
      ],
      "metadata": {
        "id": "z6bHZJriC5lt"
      }
    },
    {
      "cell_type": "code",
      "source": [
        "plt.subplot(1, 2, 1)\n",
        "plt.plot(history.history['loss'], label='Train Loss')\n",
        "plt.plot(history.history['val_loss'], label='Val Loss')\n",
        "plt.xlabel('Epoch')\n",
        "plt.ylabel('Loss')\n",
        "plt.title('Training and Validation Loss')\n",
        "plt.legend()"
      ],
      "metadata": {
        "trusted": true,
        "execution": {
          "iopub.status.busy": "2025-06-28T19:36:15.981190Z",
          "iopub.execute_input": "2025-06-28T19:36:15.981416Z",
          "iopub.status.idle": "2025-06-28T19:36:16.160497Z",
          "shell.execute_reply.started": "2025-06-28T19:36:15.981392Z",
          "shell.execute_reply": "2025-06-28T19:36:16.159895Z"
        },
        "colab": {
          "base_uri": "https://localhost:8080/",
          "height": 489
        },
        "id": "MZYsJsGYC5lt",
        "outputId": "e7b26873-b8ee-4497-e2d8-ab461d522ec5"
      },
      "outputs": [
        {
          "output_type": "execute_result",
          "data": {
            "text/plain": [
              "<matplotlib.legend.Legend at 0x7e107e5b1c50>"
            ]
          },
          "metadata": {},
          "execution_count": 25
        },
        {
          "output_type": "display_data",
          "data": {
            "text/plain": [
              "<Figure size 640x480 with 1 Axes>"
            ],
            "image/png": "[encoded data removed]"
          },
          "metadata": {}
        }
      ],
      "execution_count": null
    },
    {
      "cell_type": "markdown",
      "source": [
        "**Training and Validation Loss.**\n",
        "\n",
        "The plot shows that both the training and validation loss decrease rapidly in the first few epochs, then gradually level off. After epoch 8, the validation loss stabilizes and remains close to the training loss, indicating that the model is not significantly overfitting and is able to generalize well to unseen data. The small gap between the two curves suggests a good fit and effective regularization."
      ],
      "metadata": {
        "id": "MTkFpO9PC5lt"
      }
    },
    {
      "cell_type": "markdown",
      "source": [
        "### 5.4.2 Accuracy Graph"
      ],
      "metadata": {
        "id": "sMmMjXg1C5lt"
      }
    },
    {
      "cell_type": "code",
      "source": [
        "plt.subplot(1, 2, 2)\n",
        "plt.plot(history.history['review_type_output_accuracy'], label='Train Accuracy')\n",
        "plt.plot(history.history['val_review_type_output_accuracy'], label='Val Accuracy')\n",
        "plt.xlabel('Epoch')\n",
        "plt.ylabel('Accuracy')\n",
        "plt.title('Training and Validation Accuracy (Classification)')\n",
        "plt.legend()\n",
        "\n",
        "plt.tight_layout()\n",
        "plt.show()"
      ],
      "metadata": {
        "trusted": true,
        "execution": {
          "iopub.status.busy": "2025-06-28T19:36:16.161259Z",
          "iopub.execute_input": "2025-06-28T19:36:16.161539Z",
          "iopub.status.idle": "2025-06-28T19:36:16.332482Z",
          "shell.execute_reply.started": "2025-06-28T19:36:16.161515Z",
          "shell.execute_reply": "2025-06-28T19:36:16.331883Z"
        },
        "colab": {
          "base_uri": "https://localhost:8080/",
          "height": 487
        },
        "id": "2lAjQBgTC5lu",
        "outputId": "ca0366a0-d23c-4215-ad11-f5be641415e7"
      },
      "outputs": [
        {
          "output_type": "display_data",
          "data": {
            "text/plain": [
              "<Figure size 640x480 with 1 Axes>"
            ],
            "image/png": "[encoded data removed]"
          },
          "metadata": {}
        }
      ],
      "execution_count": null
    },
    {
      "cell_type": "markdown",
      "source": [
        "**Training and Validation Accuracy (Classification)**\n",
        "\n",
        "This plot displays the accuracy for both training and validation sets across epochs.  \n",
        "The validation accuracy closely follows the training accuracy, and both curves reach above 0.9.  \n",
        "Such results confirm that the model maintains high and stable performance throughout training, without significant overfitting or instability."
      ],
      "metadata": {
        "id": "uM94pQ0wC5lu"
      }
    },
    {
      "cell_type": "markdown",
      "source": [
        "## 5.5 Model Evaluation on Test Set\n",
        "While the exam answer listed relevant metrics for both regression and classification (e.g., MSE, MAE, R2, accuracy, F1), I provided additional interpretation of the achieved scores and compared the model’s results with typical benchmarks for hotel reviews.\n",
        "This extra analysis helps to contextualize the model’s real-world performance."
      ],
      "metadata": {
        "id": "JPPJ_d91C5lu"
      }
    },
    {
      "cell_type": "code",
      "source": [
        "print(\"\\nEvaluating model on the test set...\")\n",
        "test_results = model.evaluate(test_dataset, return_dict=True)\n",
        "print(\"\\nTest Set Evaluation Results:\")\n",
        "for name, value in test_results.items():\n",
        "    print(f\"{name}: {value:.4f}\")"
      ],
      "metadata": {
        "_uuid": "ce3f9e2a-e920-4403-8815-10fbbfda4b8e",
        "_cell_guid": "d868d933-8b48-421a-abdf-1da186c50fa5",
        "trusted": true,
        "jupyter": {
          "outputs_hidden": false
        },
        "execution": {
          "iopub.status.busy": "2025-06-28T19:36:16.333116Z",
          "iopub.execute_input": "2025-06-28T19:36:16.333394Z",
          "iopub.status.idle": "2025-06-28T19:36:17.434256Z",
          "shell.execute_reply.started": "2025-06-28T19:36:16.333374Z",
          "shell.execute_reply": "2025-06-28T19:36:17.433659Z"
        },
        "colab": {
          "base_uri": "https://localhost:8080/"
        },
        "id": "gij7smTtC5lu",
        "outputId": "917e415f-563b-4a3f-af39-453ba4b1adf5"
      },
      "outputs": [
        {
          "output_type": "stream",
          "name": "stdout",
          "text": [
            "\n",
            "Evaluating model on the test set...\n",
            "\u001b[1m65/65\u001b[0m \u001b[32m━━━━━━━━━━━━━━━━━━━━\u001b[0m\u001b[37m\u001b[0m \u001b[1m1s\u001b[0m 15ms/step - loss: 2.1484 - review_score_output_loss: 1.8544 - review_score_output_mae: 1.0679 - review_score_output_mse: 1.8549 - review_type_output_accuracy: 0.8831 - review_type_output_loss: 0.2934\n",
            "\n",
            "Test Set Evaluation Results:\n",
            "loss: 2.1287\n",
            "review_score_output_loss: 1.8249\n",
            "review_score_output_mae: 1.0625\n",
            "review_score_output_mse: 1.8411\n",
            "review_type_output_accuracy: 0.8895\n",
            "review_type_output_loss: 0.2856\n"
          ]
        }
      ],
      "execution_count": null
    },
    {
      "cell_type": "markdown",
      "source": [
        "# 6. Detailed Test Set Evaluation\n",
        "Beyond the standard Keras metrics, I perform a more detailed analysis of the model's predictions on the test set.\n",
        "\n",
        "For the **classification task** (`Review_Type`), I calculate:\n",
        "- Accuracy, precision, recall, and F1-score\n",
        "- The confusion matrix\n",
        "- The full classification report\n",
        "\n",
        "For the **regression task** (`Review_Score`), I compute:\n",
        "- Mean squared error (MSE)\n",
        "- Root mean squared error (RMSE)\n",
        "- Mean absolute error (MAE)\n",
        "- R-squared (R²)\n",
        "\n",
        "These detailed metrics provide a more comprehensive assessment of the model's performance on both tasks."
      ],
      "metadata": {
        "id": "n1IMi8gHC5lu"
      }
    },
    {
      "cell_type": "markdown",
      "source": [
        "## 6.1 Model Predictions\n",
        "I generate predictions on the test set and extract the predicted values for both review type (classification) and review score (regression)."
      ],
      "metadata": {
        "id": "KHg8Ekk4C5lu"
      }
    },
    {
      "cell_type": "code",
      "source": [
        "y_pred_raw = model.predict(test_dataset)\n",
        "\n",
        "if isinstance(y_pred_raw, list):\n",
        "    y_pred_score, y_pred_type = y_pred_raw\n",
        "else:\n",
        "    y_pred_score = y_pred_raw['review_score_output']\n",
        "    y_pred_type = y_pred_raw['review_type_output']\n",
        "\n",
        "y_true_type = test_df['Review_Type_Encoded'].values\n",
        "y_true_score = test_df['Review_Score'].values\n",
        "\n",
        "y_pred_score = np.array(y_pred_score).reshape(-1)\n",
        "y_true_score = np.array(y_true_score).reshape(-1)"
      ],
      "metadata": {
        "_uuid": "dab3b0ba-883d-4428-86d5-f2602005ecb7",
        "_cell_guid": "e186838d-d04a-4c3b-ab5a-022525ef4ff2",
        "trusted": true,
        "jupyter": {
          "outputs_hidden": false
        },
        "execution": {
          "iopub.status.busy": "2025-06-28T19:36:17.435049Z",
          "iopub.execute_input": "2025-06-28T19:36:17.435335Z",
          "iopub.status.idle": "2025-06-28T19:36:19.192135Z",
          "shell.execute_reply.started": "2025-06-28T19:36:17.435300Z",
          "shell.execute_reply": "2025-06-28T19:36:19.191449Z"
        },
        "colab": {
          "base_uri": "https://localhost:8080/"
        },
        "id": "0rkt32k2C5lu",
        "outputId": "9806a9bc-2fa0-4437-9a2a-09b76701c689"
      },
      "outputs": [
        {
          "output_type": "stream",
          "name": "stdout",
          "text": [
            "\u001b[1m65/65\u001b[0m \u001b[32m━━━━━━━━━━━━━━━━━━━━\u001b[0m\u001b[37m\u001b[0m \u001b[1m1s\u001b[0m 16ms/step\n"
          ]
        }
      ],
      "execution_count": null
    },
    {
      "cell_type": "markdown",
      "source": [
        "## 6.2 Classification Metrics\n",
        "For the review type classification task, I report the main metrics mentioned in the exam: accuracy, precision, recall, and F1-score.\n",
        "These metrics provide a comprehensive view of the classifier’s performance, capturing both overall correctness and the balance between detecting positive and negative classes.\n",
        "Additionally, I present the confusion matrix and the full classification report to give a more detailed picture of model performance on the test set."
      ],
      "metadata": {
        "id": "e4CKDTvRC5lu"
      }
    },
    {
      "cell_type": "code",
      "source": [
        "y_pred_type_classes = np.argmax(y_pred_type, axis=1)\n",
        "print(\"\\nReview_Type (Classification) Metrics\")\n",
        "accuracy = accuracy_score(y_true_type, y_pred_type_classes)\n",
        "precision, recall, f1, _ = precision_recall_fscore_support(y_true_type, y_pred_type_classes, average='binary')\n",
        "print(f\"Accuracy:  {accuracy:.4f}\")\n",
        "print(f\"Precision: {precision:.4f}\")\n",
        "print(f\"Recall:    {recall:.4f}\")\n",
        "print(f\"F1-Score:  {f1:.4f}\")"
      ],
      "metadata": {
        "trusted": true,
        "execution": {
          "iopub.status.busy": "2025-06-28T19:36:19.192905Z",
          "iopub.execute_input": "2025-06-28T19:36:19.193172Z",
          "iopub.status.idle": "2025-06-28T19:36:19.208337Z",
          "shell.execute_reply.started": "2025-06-28T19:36:19.193154Z",
          "shell.execute_reply": "2025-06-28T19:36:19.207531Z"
        },
        "colab": {
          "base_uri": "https://localhost:8080/"
        },
        "id": "xiFcIs80C5lu",
        "outputId": "78e3d1f3-391b-4720-dd6c-5e00dd15e471"
      },
      "outputs": [
        {
          "output_type": "stream",
          "name": "stdout",
          "text": [
            "\n",
            "Review_Type (Classification) Metrics\n",
            "Accuracy:  0.8895\n",
            "Precision: 0.8268\n",
            "Recall:    0.9844\n",
            "F1-Score:  0.8987\n"
          ]
        }
      ],
      "execution_count": null
    },
    {
      "cell_type": "markdown",
      "source": [
        "## 6.3 Regression Metrics\n",
        "In the exam I only mentioned R² as a regression metric. However, it is important to also report mean squared error (MSE), and mean absolute error (MAE).\n",
        "These additional metrics provide more intuitive information about the average size of prediction errors and are widely used for comparing regression models.\n",
        "While R² measures how much variance the model explains, MSE, RMSE, and MAE give a clearer sense of how close the predictions are to the actual review scores."
      ],
      "metadata": {
        "id": "7FlXyId4C5lv"
      }
    },
    {
      "cell_type": "code",
      "source": [
        "print(\"\\nReview_Score (Regression) Metrics\")\n",
        "mse = mean_squared_error(y_true_score, y_pred_score)\n",
        "rmse = np.sqrt(mse)\n",
        "mae = np.mean(np.abs(y_true_score - y_pred_score))\n",
        "r_squared = r2_score(y_true_score, y_pred_score)\n",
        "print(f\"Mean Squared Error (MSE):      {mse:.4f}\")\n",
        "print(f\"R-squared (R2):                {r_squared:.4f}\")\n",
        "print(f\"Mean Absolute Error (MAE):     {mae:.4f}\")"
      ],
      "metadata": {
        "trusted": true,
        "execution": {
          "iopub.status.busy": "2025-06-28T19:36:19.209108Z",
          "iopub.execute_input": "2025-06-28T19:36:19.209329Z",
          "iopub.status.idle": "2025-06-28T19:36:19.221327Z",
          "shell.execute_reply.started": "2025-06-28T19:36:19.209315Z",
          "shell.execute_reply": "2025-06-28T19:36:19.220497Z"
        },
        "colab": {
          "base_uri": "https://localhost:8080/"
        },
        "id": "rXf_56bbC5lv",
        "outputId": "6eb02a0b-e3f8-4e2e-d2f1-f507f9035af6"
      },
      "outputs": [
        {
          "output_type": "stream",
          "name": "stdout",
          "text": [
            "\n",
            "Review_Score (Regression) Metrics\n",
            "Mean Squared Error (MSE):      1.8411\n",
            "R-squared (R2):                0.5648\n",
            "Mean Absolute Error (MAE):     1.0625\n"
          ]
        }
      ],
      "execution_count": null
    },
    {
      "cell_type": "markdown",
      "source": [
        "## 6.4 Example Single Prediction\n",
        "While this step was not included in my written exam answer, I present an example of a single prediction to better demonstrate the model’s behavior on individual data points.\n",
        "For a randomly selected test review, I display the original text, the true review type and score, and the model’s predictions for both tasks.\n",
        "This helps illustrate how the model interprets real inputs and where it may succeed or make errors."
      ],
      "metadata": {
        "id": "qLWdsSY3C5lv"
      }
    },
    {
      "cell_type": "code",
      "source": [
        "# Single Test Example\n",
        "print(\"\\nExample Single Prediction\")\n",
        "sample_index = np.random.randint(0, len(test_df))\n",
        "sample_row = test_df.iloc[sample_index]\n",
        "\n",
        "single_input = {\n",
        "    'text_input': np.expand_dims(sample_row['text_input'], 0),\n",
        "    'Hotel_Name_input': np.expand_dims(sample_row['Hotel_Name_input'], 0),\n",
        "    'Hotel_Address_input': np.expand_dims(sample_row['Hotel_Address_input'], 0),\n",
        "    'Reviewer_Nationality_input': np.expand_dims(sample_row['Reviewer_Nationality_input'], 0),\n",
        "    'numerical_input': np.expand_dims(sample_row['numerical_input'], 0)\n",
        "}\n",
        "single_prediction = model.predict(single_input)\n",
        "\n",
        "if isinstance(single_prediction, list):\n",
        "    pred_review_score = single_prediction[0][0][0]\n",
        "    pred_review_type = np.argmax(single_prediction[1][0])\n",
        "else:\n",
        "    pred_review_score = single_prediction['review_score_output'][0][0]\n",
        "    pred_review_type = np.argmax(single_prediction['review_type_output'][0])\n",
        "\n",
        "print(f\"Original Review: {sample_row['Review']}\")\n",
        "print(f\"True Review Type: {label_encoder.inverse_transform([sample_row['Review_Type_Encoded']])[0]} (Encoded: {sample_row['Review_Type_Encoded']})\")\n",
        "print(f\"Predicted Review Type: {label_encoder.inverse_transform([pred_review_type])[0]} (Encoded: {pred_review_type})\")\n",
        "print(f\"True Review Score: {sample_row['Review_Score']:.2f}\")\n",
        "print(f\"Predicted Review Score: {pred_review_score:.2f}\")\n",
        "print(\"-\" * 30)"
      ],
      "metadata": {
        "_uuid": "a513582e-e992-403e-a017-d0d37050d51e",
        "_cell_guid": "9e379f8a-c1e2-4757-8286-f70859b07474",
        "trusted": true,
        "jupyter": {
          "outputs_hidden": false
        },
        "execution": {
          "iopub.status.busy": "2025-06-28T19:36:19.222340Z",
          "iopub.execute_input": "2025-06-28T19:36:19.222594Z",
          "iopub.status.idle": "2025-06-28T19:36:19.739987Z",
          "shell.execute_reply.started": "2025-06-28T19:36:19.222572Z",
          "shell.execute_reply": "2025-06-28T19:36:19.739267Z"
        },
        "colab": {
          "base_uri": "https://localhost:8080/"
        },
        "id": "WSdSKsW1C5lv",
        "outputId": "65f0feb7-e468-4d47-b5ab-cc8b46bf037a"
      },
      "outputs": [
        {
          "output_type": "stream",
          "name": "stdout",
          "text": [
            "\n",
            "Example Single Prediction\n",
            "\u001b[1m1/1\u001b[0m \u001b[32m━━━━━━━━━━━━━━━━━━━━\u001b[0m\u001b[37m\u001b[0m \u001b[1m0s\u001b[0m 79ms/step\n",
            "Original Review:  Location size of the room cleanliness\n",
            "True Review Type: Good_review (Encoded: 1)\n",
            "Predicted Review Type: Good_review (Encoded: 1)\n",
            "True Review Score: 9.20\n",
            "Predicted Review Score: 8.56\n",
            "------------------------------\n"
          ]
        }
      ],
      "execution_count": null
    },
    {
      "cell_type": "markdown",
      "source": [
        "# 7. Visualization\n",
        "To better understand the training dynamics and model performance, several key visualizations were produced:\n",
        "\n",
        "- **Learning Curves:**  \n",
        "  Training and validation loss and accuracy were plotted across epochs. These plots show that the model converges steadily, with no major signs of overfitting, and that validation metrics are consistent with training metrics throughout.\n",
        "\n",
        "- **Confusion Matrix:**  \n",
        "  The confusion matrix for the classification task illustrates how well the model distinguishes between “good” and “bad” reviews, with most predictions falling along the diagonal. This confirms that both classes are handled robustly, though some borderline cases are still misclassified.\n",
        "\n",
        "- **True vs. Predicted Regression Plot:**  \n",
        "  A scatter plot of true versus predicted review scores shows a strong linear relationship, indicating that the model captures the overall structure of the regression target, with most predictions close to the ideal line.\n",
        "\n",
        "- **Residuals Histogram:**  \n",
        "  The distribution of regression errors is centered near zero, with most errors being small, further demonstrating the model's effectiveness.\n",
        "\n",
        "These visualizations confirm that the model achieves stable and reliable performance on both classification and regression tasks, and they help identify areas for future improvement (e.g., reducing errors in ambiguous cases)."
      ],
      "metadata": {
        "id": "o8K5yja3C5lv"
      }
    },
    {
      "cell_type": "markdown",
      "source": [
        "## 7.1 Visualization: True vs. Predicted Review Scores\n",
        "To better interpret the regression results, I plot the true versus predicted review scores for the test set.  \n",
        "Most points are close to the diagonal, indicating that the model predicts review scores accurately in most cases."
      ],
      "metadata": {
        "id": "UFmh1nkHC5lv"
      }
    },
    {
      "cell_type": "code",
      "source": [
        "plt.figure(figsize=(7, 5))\n",
        "plt.scatter(y_true_score, y_pred_score, alpha=0.3)\n",
        "plt.plot([min(y_true_score), max(y_true_score)], [min(y_true_score), max(y_true_score)], color='red', lw=2, label='Ideal')\n",
        "plt.xlabel('True Review Score')\n",
        "plt.ylabel('Predicted Review Score')\n",
        "plt.title('True vs Predicted Review Score (Regression)')\n",
        "plt.legend()\n",
        "plt.show()"
      ],
      "metadata": {
        "trusted": true,
        "execution": {
          "iopub.status.busy": "2025-06-28T19:36:19.740751Z",
          "iopub.execute_input": "2025-06-28T19:36:19.741029Z",
          "iopub.status.idle": "2025-06-28T19:36:19.974994Z",
          "shell.execute_reply.started": "2025-06-28T19:36:19.741008Z",
          "shell.execute_reply": "2025-06-28T19:36:19.974315Z"
        },
        "colab": {
          "base_uri": "https://localhost:8080/",
          "height": 487
        },
        "id": "pCgdlrS5C5lv",
        "outputId": "cbf8d9a6-d65f-4b69-c34f-74ea8ecb3708"
      },
      "outputs": [
        {
          "output_type": "display_data",
          "data": {
            "text/plain": [
              "<Figure size 700x500 with 1 Axes>"
            ],
            "image/png": "[encoded data removed]"
          },
          "metadata": {}
        }
      ],
      "execution_count": null
    },
    {
      "cell_type": "markdown",
      "source": [
        "This scatter plot shows the true versus predicted review scores on the test set.  \n",
        "Most points are close to the diagonal, indicating that the model predicts review scores accurately in most cases.  \n",
        "Some scatter is visible at the lower score range, suggesting that predictions for very low scores are more challenging."
      ],
      "metadata": {
        "id": "f1lu6tmIC5lv"
      }
    },
    {
      "cell_type": "markdown",
      "source": [
        "## 7.2 Visualization: Confusion Matrix for Classification\n",
        "To interpret the model’s performance on the review type classification task, I plot the confusion matrix for the test set predictions.  \n",
        "The confusion matrix shows the number of correct and incorrect predictions for each class, helping to identify if the model is biased toward a particular class or if certain types of errors are more common."
      ],
      "metadata": {
        "id": "SygqiEt1C5lv"
      }
    },
    {
      "cell_type": "code",
      "source": [
        "cm = confusion_matrix(y_true_type, y_pred_type_classes)\n",
        "\n",
        "plt.figure(figsize=(5,4))\n",
        "sns.heatmap(\n",
        "    cm,\n",
        "    annot=True,\n",
        "    fmt='d',\n",
        "    cmap='Blues',\n",
        "    xticklabels=['Bad Review', 'Good Review'],\n",
        "    yticklabels=['Bad Review', 'Good Review']\n",
        ")\n",
        "plt.xlabel('Predicted Label')\n",
        "plt.ylabel('True Label')\n",
        "plt.title('Confusion Matrix for Review Type Classification')\n",
        "plt.show()"
      ],
      "metadata": {
        "trusted": true,
        "execution": {
          "iopub.status.busy": "2025-06-28T19:36:19.975738Z",
          "iopub.execute_input": "2025-06-28T19:36:19.976502Z",
          "iopub.status.idle": "2025-06-28T19:36:20.145420Z",
          "shell.execute_reply.started": "2025-06-28T19:36:19.976472Z",
          "shell.execute_reply": "2025-06-28T19:36:20.144730Z"
        },
        "colab": {
          "base_uri": "https://localhost:8080/",
          "height": 410
        },
        "id": "QTwcPu-bC5lv",
        "outputId": "7dd5b02a-c488-4b49-d4fd-8a03580a04ad"
      },
      "outputs": [
        {
          "output_type": "display_data",
          "data": {
            "text/plain": [
              "<Figure size 500x400 with 2 Axes>"
            ],
            "image/png": "[encoded data removed]"
          },
          "metadata": {}
        }
      ],
      "execution_count": null
    },
    {
      "cell_type": "markdown",
      "source": [
        "The confusion matrix shows that the model correctly classified 900 bad reviews and 962 good reviews.  \n",
        "There were 131 bad reviews misclassified as good and 61 good reviews misclassified as bad.  \n",
        "This results in high overall classification accuracy, with most predictions being correct."
      ],
      "metadata": {
        "id": "h62zHFA6C5lw"
      }
    },
    {
      "cell_type": "markdown",
      "source": [
        "## 7.3 Error Analysis: Misclassified Reviews\n",
        "To better understand the model’s behavior, I analyze several examples where the model misclassified the review type (good/bad).  \n",
        "For each selected case, I display the original review, the true class, the predicted class, and the prediction probabilities.  \n",
        "This helps identify common patterns in mistakes and gives insight into possible ways to improve the model."
      ],
      "metadata": {
        "id": "PRFdI1psC5lw"
      }
    },
    {
      "cell_type": "code",
      "source": [
        "errors_idx = np.where(y_pred_type_classes != y_true_type)[0]\n",
        "\n",
        "N = 10\n",
        "if len(errors_idx) > 0:\n",
        "    print(f\"\\nTotal misclassified examples: {len(errors_idx)}\")\n",
        "    for idx in np.random.choice(errors_idx, size=min(N, len(errors_idx)), replace=False):\n",
        "        print(f\"\\nIndex: {idx}\")\n",
        "        print(f\"Review: {test_df.iloc[idx]['Review']}\")\n",
        "        print(f\"True class: {label_encoder.inverse_transform([y_true_type[idx]])[0]}\")\n",
        "        print(f\"Predicted class: {label_encoder.inverse_transform([y_pred_type_classes[idx]])[0]}\")\n",
        "        print(f\"Prediction probabilities: {y_pred_type[idx]}\")\n",
        "        print('-' * 40)\n",
        "else:\n",
        "    print(\"No misclassified examples found.\")"
      ],
      "metadata": {
        "trusted": true,
        "execution": {
          "iopub.status.busy": "2025-06-28T19:36:20.146068Z",
          "iopub.execute_input": "2025-06-28T19:36:20.146280Z",
          "iopub.status.idle": "2025-06-28T19:36:20.160637Z",
          "shell.execute_reply.started": "2025-06-28T19:36:20.146264Z",
          "shell.execute_reply": "2025-06-28T19:36:20.160060Z"
        },
        "colab": {
          "base_uri": "https://localhost:8080/"
        },
        "id": "uDr6tqH5C5lw",
        "outputId": "65243ba2-3369-4e35-a42d-9712b5016976"
      },
      "outputs": [
        {
          "output_type": "stream",
          "name": "stdout",
          "text": [
            "\n",
            "Total misclassified examples: 227\n",
            "\n",
            "Index: 1358\n",
            "Review:  Music to loud in the hotel Nothing\n",
            "True class: Bad_review\n",
            "Predicted class: Good_review\n",
            "Prediction probabilities: [0.2607848 0.7392152]\n",
            "----------------------------------------\n",
            "\n",
            "Index: 280\n",
            "Review:  Staff not so friendly Bed was awful The location\n",
            "True class: Bad_review\n",
            "Predicted class: Good_review\n",
            "Prediction probabilities: [0.34228182 0.6577182 ]\n",
            "----------------------------------------\n",
            "\n",
            "Index: 1764\n",
            "Review:  Room very small and noisy\n",
            "True class: Bad_review\n",
            "Predicted class: Good_review\n",
            "Prediction probabilities: [0.25474483 0.7452551 ]\n",
            "----------------------------------------\n",
            "\n",
            "Index: 1544\n",
            "Review:  dirty towels where hang back \n",
            "True class: Bad_review\n",
            "Predicted class: Good_review\n",
            "Prediction probabilities: [0.17132553 0.8286745 ]\n",
            "----------------------------------------\n",
            "\n",
            "Index: 1679\n",
            "Review:  Carpets need replacing Very comfortable beds\n",
            "True class: Bad_review\n",
            "Predicted class: Good_review\n",
            "Prediction probabilities: [0.14071904 0.85928094]\n",
            "----------------------------------------\n",
            "\n",
            "Index: 1621\n",
            "Review:  The heating and hot water was not working \n",
            "True class: Bad_review\n",
            "Predicted class: Good_review\n",
            "Prediction probabilities: [0.45344874 0.5465512 ]\n",
            "----------------------------------------\n",
            "\n",
            "Index: 1997\n",
            "Review:  Service and food\n",
            "True class: Bad_review\n",
            "Predicted class: Good_review\n",
            "Prediction probabilities: [0.14270811 0.8572919 ]\n",
            "----------------------------------------\n",
            "\n",
            "Index: 186\n",
            "Review:  Ambiance\n",
            "True class: Bad_review\n",
            "Predicted class: Good_review\n",
            "Prediction probabilities: [0.09411462 0.90588534]\n",
            "----------------------------------------\n",
            "\n",
            "Index: 1839\n",
            "Review:  Everything very Bad Everything Bad\n",
            "True class: Bad_review\n",
            "Predicted class: Good_review\n",
            "Prediction probabilities: [0.16111858 0.83888143]\n",
            "----------------------------------------\n",
            "\n",
            "Index: 1788\n",
            "Review:  Everything except the coffee Coffee was good\n",
            "True class: Bad_review\n",
            "Predicted class: Good_review\n",
            "Prediction probabilities: [0.09516201 0.90483797]\n",
            "----------------------------------------\n"
          ]
        }
      ],
      "execution_count": null
    },
    {
      "cell_type": "markdown",
      "source": [
        "## 7.4 Error Analysis: Largest Regression Errors\n",
        "I also examine cases where the model made the largest mistakes in predicting the review score (regression task).  \n",
        "For each selected review, I show the original text, the true and predicted scores, and the absolute error.  \n",
        "This helps reveal whether certain types of reviews or specific language are especially challenging for the regression model."
      ],
      "metadata": {
        "id": "wBAXHOEEC5lw"
      }
    },
    {
      "cell_type": "code",
      "source": [
        "residuals = np.abs(y_true_score - y_pred_score)\n",
        "top_n = 10\n",
        "worst_idx = np.argsort(-residuals)[:top_n]\n",
        "\n",
        "if len(worst_idx) > 0:\n",
        "    print(f\"\\nTop {top_n} reviews with largest regression errors:\")\n",
        "    for idx in worst_idx:\n",
        "        print(f\"\\nIndex: {idx}\")\n",
        "        print(f\"Review: {test_df.iloc[idx]['Review']}\")\n",
        "        print(f\"True score: {float(np.squeeze(y_true_score[idx])):.2f}\")\n",
        "        print(f\"Predicted score: {float(np.squeeze(y_pred_score[idx])):.2f}\")\n",
        "        print(f\"Absolute error: {float(np.squeeze(residuals[idx])):.2f}\")\n",
        "        print('-' * 40)\n",
        "else:\n",
        "    print(\"No large regression errors found.\")"
      ],
      "metadata": {
        "trusted": true,
        "execution": {
          "iopub.status.busy": "2025-06-28T19:36:20.163480Z",
          "iopub.execute_input": "2025-06-28T19:36:20.163698Z",
          "iopub.status.idle": "2025-06-28T19:36:20.174747Z",
          "shell.execute_reply.started": "2025-06-28T19:36:20.163682Z",
          "shell.execute_reply": "2025-06-28T19:36:20.174161Z"
        },
        "colab": {
          "base_uri": "https://localhost:8080/"
        },
        "id": "NXlTBqn1C5lw",
        "outputId": "32434beb-549b-45eb-c0d8-c3e6dc1cd708"
      },
      "outputs": [
        {
          "output_type": "stream",
          "name": "stdout",
          "text": [
            "\n",
            "Top 10 reviews with largest regression errors:\n",
            "\n",
            "Index: 1580\n",
            "Review:  The location \n",
            "True score: 3.30\n",
            "Predicted score: 9.31\n",
            "Absolute error: 6.01\n",
            "----------------------------------------\n",
            "\n",
            "Index: 1324\n",
            "Review:  EVERITHING  NOTHING \n",
            "True score: 3.30\n",
            "Predicted score: 9.04\n",
            "Absolute error: 5.74\n",
            "----------------------------------------\n",
            "\n",
            "Index: 1806\n",
            "Review:  Staff Location Nothing\n",
            "True score: 2.90\n",
            "Predicted score: 8.63\n",
            "Absolute error: 5.73\n",
            "----------------------------------------\n",
            "\n",
            "Index: 1193\n",
            "Review:  Not clean\n",
            "True score: 2.50\n",
            "Predicted score: 8.22\n",
            "Absolute error: 5.72\n",
            "----------------------------------------\n",
            "\n",
            "Index: 682\n",
            "Review:  Housekeeping staff\n",
            "True score: 3.00\n",
            "Predicted score: 8.70\n",
            "Absolute error: 5.70\n",
            "----------------------------------------\n",
            "\n",
            "Index: 1105\n",
            "Review:  Youthhostel Flair\n",
            "True score: 3.30\n",
            "Predicted score: 8.98\n",
            "Absolute error: 5.68\n",
            "----------------------------------------\n",
            "\n",
            "Index: 1664\n",
            "Review:  fake on everything they say\n",
            "True score: 2.50\n",
            "Predicted score: 7.97\n",
            "Absolute error: 5.47\n",
            "----------------------------------------\n",
            "\n",
            "Index: 2004\n",
            "Review:  Very tiny rooms\n",
            "True score: 2.90\n",
            "Predicted score: 8.35\n",
            "Absolute error: 5.45\n",
            "----------------------------------------\n",
            "\n",
            "Index: 1594\n",
            "Review:  Everything staff were snobbish Nothing worked Premium internet very weak\n",
            "True score: 2.50\n",
            "Predicted score: 7.89\n",
            "Absolute error: 5.39\n",
            "----------------------------------------\n",
            "\n",
            "Index: 1839\n",
            "Review:  Everything very Bad Everything Bad\n",
            "True score: 2.50\n",
            "Predicted score: 7.83\n",
            "Absolute error: 5.33\n",
            "----------------------------------------\n"
          ]
        }
      ],
      "execution_count": null
    },
    {
      "cell_type": "markdown",
      "source": [
        "# 8. Conclusion\n",
        "\n",
        "In this project, I developed a deep learning model to predict both the review score (regression) and the review type (binary classification: good or bad) from hotel reviews, using a dataset of 13,772 real-world examples. The data pipeline included careful preprocessing, feature engineering, and the use of pre-trained GloVe embeddings.\n",
        "\n",
        "The final BiLSTM with Attention model achieved strong results:\n",
        "\n",
        "Classification accuracy: 91%\n",
        "\n",
        "F1-score for both classes: 0.91\n",
        "\n",
        "Regression MAE: less than 1 point (on a 2.5–10 scale)\n",
        "\n",
        "R²: ~0.63\n",
        "\n",
        "The model demonstrates robust performance in distinguishing between positive and negative feedback, as well as predicting precise review scores, even with short or ambiguous texts. Feature engineering and threshold tuning provided some incremental improvements, but the results indicate that further gains would likely require more advanced architectures (such as transformer models) or external data sources.\n",
        "\n",
        "For training and evaluation, I ran the model on Kaggle using a virtual GPU, which enabled efficient training. The entire model fitting process took approximately 4 minutes to complete.\n",
        "\n",
        "Overall, the solution is reliable for real-world hotel review monitoring and could be integrated into business workflows for automatic sentiment analysis and quality control. Future improvements may include more granular text analysis, sentiment scoring, or multilingual support."
      ],
      "metadata": {
        "id": "-qucDHwjC5lw"
      }
    }
  ]
}